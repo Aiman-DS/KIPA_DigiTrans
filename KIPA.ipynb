{
 "cells": [
  {
   "cell_type": "code",
   "execution_count": 1,
   "id": "71304b38-c63e-4510-8743-ff342d0597fc",
   "metadata": {},
   "outputs": [],
   "source": [
    "import numpy as np\n",
    "import pandas as pd\n",
    "import matplotlib.pyplot as plt\n",
    "import plotly.express as px\n",
    "import plotly.graph_objects as go\n",
    "import pandas as pd\n"
   ]
  },
  {
   "cell_type": "code",
   "execution_count": 36,
   "id": "0c2653fd-3b72-4ac0-8ec4-9e6653c53fc7",
   "metadata": {},
   "outputs": [
    {
     "data": {
      "text/html": [
       "<div>\n",
       "<style scoped>\n",
       "    .dataframe tbody tr th:only-of-type {\n",
       "        vertical-align: middle;\n",
       "    }\n",
       "\n",
       "    .dataframe tbody tr th {\n",
       "        vertical-align: top;\n",
       "    }\n",
       "\n",
       "    .dataframe thead th {\n",
       "        text-align: right;\n",
       "    }\n",
       "</style>\n",
       "<table border=\"1\" class=\"dataframe\">\n",
       "  <thead>\n",
       "    <tr style=\"text-align: right;\">\n",
       "      <th></th>\n",
       "      <th>week</th>\n",
       "      <th>wPreis</th>\n",
       "      <th>Plz</th>\n",
       "      <th>full</th>\n",
       "      <th>date</th>\n",
       "    </tr>\n",
       "  </thead>\n",
       "  <tbody>\n",
       "    <tr>\n",
       "      <th>0</th>\n",
       "      <td>2020-37</td>\n",
       "      <td>-37.519318</td>\n",
       "      <td>['25', '24']</td>\n",
       "      <td>A2 -  geschreddert</td>\n",
       "      <td>2020-09-14</td>\n",
       "    </tr>\n",
       "    <tr>\n",
       "      <th>1</th>\n",
       "      <td>2020-39</td>\n",
       "      <td>-40.000000</td>\n",
       "      <td>['25', '24']</td>\n",
       "      <td>A2 -  geschreddert</td>\n",
       "      <td>2020-09-28</td>\n",
       "    </tr>\n",
       "    <tr>\n",
       "      <th>2</th>\n",
       "      <td>2020-41</td>\n",
       "      <td>-34.853543</td>\n",
       "      <td>['25', '24']</td>\n",
       "      <td>A2 -  geschreddert</td>\n",
       "      <td>2020-10-12</td>\n",
       "    </tr>\n",
       "    <tr>\n",
       "      <th>3</th>\n",
       "      <td>2020-42</td>\n",
       "      <td>-27.560202</td>\n",
       "      <td>['25', '24']</td>\n",
       "      <td>A2 -  geschreddert</td>\n",
       "      <td>2020-10-19</td>\n",
       "    </tr>\n",
       "    <tr>\n",
       "      <th>4</th>\n",
       "      <td>2020-43</td>\n",
       "      <td>-31.937780</td>\n",
       "      <td>['25', '24']</td>\n",
       "      <td>A2 -  geschreddert</td>\n",
       "      <td>2020-10-26</td>\n",
       "    </tr>\n",
       "  </tbody>\n",
       "</table>\n",
       "</div>"
      ],
      "text/plain": [
       "      week     wPreis           Plz                full       date\n",
       "0  2020-37 -37.519318  ['25', '24']  A2 -  geschreddert 2020-09-14\n",
       "1  2020-39 -40.000000  ['25', '24']  A2 -  geschreddert 2020-09-28\n",
       "2  2020-41 -34.853543  ['25', '24']  A2 -  geschreddert 2020-10-12\n",
       "3  2020-42 -27.560202  ['25', '24']  A2 -  geschreddert 2020-10-19\n",
       "4  2020-43 -31.937780  ['25', '24']  A2 -  geschreddert 2020-10-26"
      ]
     },
     "execution_count": 36,
     "metadata": {},
     "output_type": "execute_result"
    }
   ],
   "source": [
    "df = pd.read_excel('df.xlsx')\n",
    "df.head()"
   ]
  },
  {
   "cell_type": "code",
   "execution_count": 3,
   "id": "1c4d49f6",
   "metadata": {},
   "outputs": [
    {
     "name": "stdout",
     "output_type": "stream",
     "text": [
      "<class 'pandas.core.frame.DataFrame'>\n",
      "RangeIndex: 3379 entries, 0 to 3378\n",
      "Data columns (total 5 columns):\n",
      " #   Column  Non-Null Count  Dtype         \n",
      "---  ------  --------------  -----         \n",
      " 0   week    3379 non-null   object        \n",
      " 1   wPreis  3379 non-null   float64       \n",
      " 2   Plz     3379 non-null   object        \n",
      " 3   full    3379 non-null   object        \n",
      " 4   date    3379 non-null   datetime64[ns]\n",
      "dtypes: datetime64[ns](1), float64(1), object(3)\n",
      "memory usage: 132.1+ KB\n"
     ]
    }
   ],
   "source": [
    "df.info()"
   ]
  },
  {
   "cell_type": "code",
   "execution_count": 4,
   "id": "511fff2b-085b-4613-8219-5e232f9282e0",
   "metadata": {},
   "outputs": [
    {
     "data": {
      "text/plain": [
       "3379"
      ]
     },
     "execution_count": 4,
     "metadata": {},
     "output_type": "execute_result"
    }
   ],
   "source": [
    "len(df)"
   ]
  },
  {
   "cell_type": "code",
   "execution_count": 5,
   "id": "00d96fa3-a2cc-4204-956a-d0b65d42a092",
   "metadata": {},
   "outputs": [
    {
     "data": {
      "text/plain": [
       "array([\"['25', '24']\", \"['26', '27', '28']\", \"['20', '21', '22', '23']\",\n",
       "       \"['29', '30', '31', '38', '39']\",\n",
       "       \"['10', '11', '12', '13', '14', '15', '16']\", \"['48', '49']\",\n",
       "       \"['1', '4', '6', '7', '8', '9']\",\n",
       "       \"['40', '41', '42', '44', '45', '46', '47']\",\n",
       "       \"['50', '51', '52', '53']\",\n",
       "       \"['80', '81', '82', '83', '84', '85', '93', '94']\"], dtype=object)"
      ]
     },
     "execution_count": 5,
     "metadata": {},
     "output_type": "execute_result"
    }
   ],
   "source": [
    "df['Plz'].unique()"
   ]
  },
  {
   "cell_type": "code",
   "execution_count": 6,
   "id": "b273e38a-0296-4545-9b73-d52e0fad90ff",
   "metadata": {},
   "outputs": [
    {
     "data": {
      "text/plain": [
       "array(['A2 -  geschreddert', 'A1 & A2 -  geschreddert',\n",
       "       'A2 & A3 -  geschreddert', 'A3 -  geschreddert'], dtype=object)"
      ]
     },
     "execution_count": 6,
     "metadata": {},
     "output_type": "execute_result"
    }
   ],
   "source": [
    "df['full'].unique()"
   ]
  },
  {
   "cell_type": "code",
   "execution_count": 7,
   "id": "b70da228-eb39-475f-acdf-c0754b628131",
   "metadata": {},
   "outputs": [
    {
     "data": {
      "text/html": [
       "<div>\n",
       "<style scoped>\n",
       "    .dataframe tbody tr th:only-of-type {\n",
       "        vertical-align: middle;\n",
       "    }\n",
       "\n",
       "    .dataframe tbody tr th {\n",
       "        vertical-align: top;\n",
       "    }\n",
       "\n",
       "    .dataframe thead th {\n",
       "        text-align: right;\n",
       "    }\n",
       "</style>\n",
       "<table border=\"1\" class=\"dataframe\">\n",
       "  <thead>\n",
       "    <tr style=\"text-align: right;\">\n",
       "      <th></th>\n",
       "      <th>week</th>\n",
       "      <th>wPreis</th>\n",
       "      <th>Plz</th>\n",
       "      <th>full</th>\n",
       "      <th>date</th>\n",
       "    </tr>\n",
       "  </thead>\n",
       "  <tbody>\n",
       "    <tr>\n",
       "      <th>0</th>\n",
       "      <td>2020-37</td>\n",
       "      <td>-37.519318</td>\n",
       "      <td>['25', '24']</td>\n",
       "      <td>A2 -  geschreddert</td>\n",
       "      <td>2020-09-14</td>\n",
       "    </tr>\n",
       "    <tr>\n",
       "      <th>1</th>\n",
       "      <td>2020-39</td>\n",
       "      <td>-40.000000</td>\n",
       "      <td>['25', '24']</td>\n",
       "      <td>A2 -  geschreddert</td>\n",
       "      <td>2020-09-28</td>\n",
       "    </tr>\n",
       "    <tr>\n",
       "      <th>2</th>\n",
       "      <td>2020-41</td>\n",
       "      <td>-34.853543</td>\n",
       "      <td>['25', '24']</td>\n",
       "      <td>A2 -  geschreddert</td>\n",
       "      <td>2020-10-12</td>\n",
       "    </tr>\n",
       "    <tr>\n",
       "      <th>3</th>\n",
       "      <td>2020-42</td>\n",
       "      <td>-27.560202</td>\n",
       "      <td>['25', '24']</td>\n",
       "      <td>A2 -  geschreddert</td>\n",
       "      <td>2020-10-19</td>\n",
       "    </tr>\n",
       "    <tr>\n",
       "      <th>4</th>\n",
       "      <td>2020-43</td>\n",
       "      <td>-31.937780</td>\n",
       "      <td>['25', '24']</td>\n",
       "      <td>A2 -  geschreddert</td>\n",
       "      <td>2020-10-26</td>\n",
       "    </tr>\n",
       "  </tbody>\n",
       "</table>\n",
       "</div>"
      ],
      "text/plain": [
       "      week     wPreis           Plz                full       date\n",
       "0  2020-37 -37.519318  ['25', '24']  A2 -  geschreddert 2020-09-14\n",
       "1  2020-39 -40.000000  ['25', '24']  A2 -  geschreddert 2020-09-28\n",
       "2  2020-41 -34.853543  ['25', '24']  A2 -  geschreddert 2020-10-12\n",
       "3  2020-42 -27.560202  ['25', '24']  A2 -  geschreddert 2020-10-19\n",
       "4  2020-43 -31.937780  ['25', '24']  A2 -  geschreddert 2020-10-26"
      ]
     },
     "execution_count": 7,
     "metadata": {},
     "output_type": "execute_result"
    }
   ],
   "source": [
    "TS1 = df[(df['Plz'] == \"['25', '24']\") & (df['full'] == 'A2 -  geschreddert')]\n",
    "TS1.head()"
   ]
  },
  {
   "cell_type": "code",
   "execution_count": 8,
   "id": "94e31801-ebcd-4132-b461-e77939ba6577",
   "metadata": {},
   "outputs": [
    {
     "name": "stdout",
     "output_type": "stream",
     "text": [
      "<class 'pandas.core.frame.DataFrame'>\n",
      "Index: 154 entries, 0 to 153\n",
      "Data columns (total 5 columns):\n",
      " #   Column  Non-Null Count  Dtype         \n",
      "---  ------  --------------  -----         \n",
      " 0   week    154 non-null    object        \n",
      " 1   wPreis  154 non-null    float64       \n",
      " 2   Plz     154 non-null    object        \n",
      " 3   full    154 non-null    object        \n",
      " 4   date    154 non-null    datetime64[ns]\n",
      "dtypes: datetime64[ns](1), float64(1), object(3)\n",
      "memory usage: 7.2+ KB\n"
     ]
    }
   ],
   "source": [
    "TS1.info()"
   ]
  },
  {
   "cell_type": "code",
   "execution_count": 9,
   "id": "e16bad0b-1e4f-408b-a892-ff351eca796c",
   "metadata": {},
   "outputs": [
    {
     "data": {
      "text/html": [
       "<div>\n",
       "<style scoped>\n",
       "    .dataframe tbody tr th:only-of-type {\n",
       "        vertical-align: middle;\n",
       "    }\n",
       "\n",
       "    .dataframe tbody tr th {\n",
       "        vertical-align: top;\n",
       "    }\n",
       "\n",
       "    .dataframe thead th {\n",
       "        text-align: right;\n",
       "    }\n",
       "</style>\n",
       "<table border=\"1\" class=\"dataframe\">\n",
       "  <thead>\n",
       "    <tr style=\"text-align: right;\">\n",
       "      <th></th>\n",
       "      <th>week</th>\n",
       "      <th>wPreis</th>\n",
       "      <th>Plz</th>\n",
       "      <th>full</th>\n",
       "      <th>date</th>\n",
       "    </tr>\n",
       "  </thead>\n",
       "  <tbody>\n",
       "    <tr>\n",
       "      <th>929</th>\n",
       "      <td>2020-37</td>\n",
       "      <td>-33.575183</td>\n",
       "      <td>['20', '21', '22', '23']</td>\n",
       "      <td>A1 &amp; A2 -  geschreddert</td>\n",
       "      <td>2020-09-14</td>\n",
       "    </tr>\n",
       "    <tr>\n",
       "      <th>930</th>\n",
       "      <td>2020-38</td>\n",
       "      <td>-30.469655</td>\n",
       "      <td>['20', '21', '22', '23']</td>\n",
       "      <td>A1 &amp; A2 -  geschreddert</td>\n",
       "      <td>2020-09-21</td>\n",
       "    </tr>\n",
       "    <tr>\n",
       "      <th>931</th>\n",
       "      <td>2020-39</td>\n",
       "      <td>-31.289522</td>\n",
       "      <td>['20', '21', '22', '23']</td>\n",
       "      <td>A1 &amp; A2 -  geschreddert</td>\n",
       "      <td>2020-09-28</td>\n",
       "    </tr>\n",
       "    <tr>\n",
       "      <th>932</th>\n",
       "      <td>2020-40</td>\n",
       "      <td>-30.616354</td>\n",
       "      <td>['20', '21', '22', '23']</td>\n",
       "      <td>A1 &amp; A2 -  geschreddert</td>\n",
       "      <td>2020-10-05</td>\n",
       "    </tr>\n",
       "    <tr>\n",
       "      <th>933</th>\n",
       "      <td>2020-41</td>\n",
       "      <td>-31.291948</td>\n",
       "      <td>['20', '21', '22', '23']</td>\n",
       "      <td>A1 &amp; A2 -  geschreddert</td>\n",
       "      <td>2020-10-12</td>\n",
       "    </tr>\n",
       "  </tbody>\n",
       "</table>\n",
       "</div>"
      ],
      "text/plain": [
       "        week     wPreis                       Plz                     full  \\\n",
       "929  2020-37 -33.575183  ['20', '21', '22', '23']  A1 & A2 -  geschreddert   \n",
       "930  2020-38 -30.469655  ['20', '21', '22', '23']  A1 & A2 -  geschreddert   \n",
       "931  2020-39 -31.289522  ['20', '21', '22', '23']  A1 & A2 -  geschreddert   \n",
       "932  2020-40 -30.616354  ['20', '21', '22', '23']  A1 & A2 -  geschreddert   \n",
       "933  2020-41 -31.291948  ['20', '21', '22', '23']  A1 & A2 -  geschreddert   \n",
       "\n",
       "          date  \n",
       "929 2020-09-14  \n",
       "930 2020-09-21  \n",
       "931 2020-09-28  \n",
       "932 2020-10-05  \n",
       "933 2020-10-12  "
      ]
     },
     "execution_count": 9,
     "metadata": {},
     "output_type": "execute_result"
    }
   ],
   "source": [
    "TS2 = df[(df['Plz'] == \"['20', '21', '22', '23']\") & (df['full'] == 'A1 & A2 -  geschreddert')]\n",
    "TS2.head()"
   ]
  },
  {
   "cell_type": "code",
   "execution_count": 10,
   "id": "2bbf4f2c-a938-4cdf-a288-41e9e6f42b39",
   "metadata": {},
   "outputs": [
    {
     "name": "stdout",
     "output_type": "stream",
     "text": [
      "<class 'pandas.core.frame.DataFrame'>\n",
      "Index: 156 entries, 929 to 1084\n",
      "Data columns (total 5 columns):\n",
      " #   Column  Non-Null Count  Dtype         \n",
      "---  ------  --------------  -----         \n",
      " 0   week    156 non-null    object        \n",
      " 1   wPreis  156 non-null    float64       \n",
      " 2   Plz     156 non-null    object        \n",
      " 3   full    156 non-null    object        \n",
      " 4   date    156 non-null    datetime64[ns]\n",
      "dtypes: datetime64[ns](1), float64(1), object(3)\n",
      "memory usage: 7.3+ KB\n"
     ]
    }
   ],
   "source": [
    "TS2.info()"
   ]
  },
  {
   "cell_type": "code",
   "execution_count": 11,
   "id": "6d88198c-f9cf-4edb-a5aa-e3d597663c04",
   "metadata": {},
   "outputs": [
    {
     "data": {
      "text/html": [
       "<div>\n",
       "<style scoped>\n",
       "    .dataframe tbody tr th:only-of-type {\n",
       "        vertical-align: middle;\n",
       "    }\n",
       "\n",
       "    .dataframe tbody tr th {\n",
       "        vertical-align: top;\n",
       "    }\n",
       "\n",
       "    .dataframe thead th {\n",
       "        text-align: right;\n",
       "    }\n",
       "</style>\n",
       "<table border=\"1\" class=\"dataframe\">\n",
       "  <thead>\n",
       "    <tr style=\"text-align: right;\">\n",
       "      <th></th>\n",
       "      <th>week</th>\n",
       "      <th>wPreis</th>\n",
       "      <th>Plz</th>\n",
       "      <th>full</th>\n",
       "      <th>date</th>\n",
       "    </tr>\n",
       "  </thead>\n",
       "  <tbody>\n",
       "    <tr>\n",
       "      <th>2004</th>\n",
       "      <td>2020-37</td>\n",
       "      <td>-29.244584</td>\n",
       "      <td>['48', '49']</td>\n",
       "      <td>A2 &amp; A3 -  geschreddert</td>\n",
       "      <td>2020-09-14</td>\n",
       "    </tr>\n",
       "    <tr>\n",
       "      <th>2005</th>\n",
       "      <td>2020-38</td>\n",
       "      <td>-27.878925</td>\n",
       "      <td>['48', '49']</td>\n",
       "      <td>A2 &amp; A3 -  geschreddert</td>\n",
       "      <td>2020-09-21</td>\n",
       "    </tr>\n",
       "    <tr>\n",
       "      <th>2006</th>\n",
       "      <td>2020-39</td>\n",
       "      <td>-25.077400</td>\n",
       "      <td>['48', '49']</td>\n",
       "      <td>A2 &amp; A3 -  geschreddert</td>\n",
       "      <td>2020-09-28</td>\n",
       "    </tr>\n",
       "    <tr>\n",
       "      <th>2007</th>\n",
       "      <td>2020-40</td>\n",
       "      <td>-25.663645</td>\n",
       "      <td>['48', '49']</td>\n",
       "      <td>A2 &amp; A3 -  geschreddert</td>\n",
       "      <td>2020-10-05</td>\n",
       "    </tr>\n",
       "    <tr>\n",
       "      <th>2008</th>\n",
       "      <td>2020-41</td>\n",
       "      <td>-24.004958</td>\n",
       "      <td>['48', '49']</td>\n",
       "      <td>A2 &amp; A3 -  geschreddert</td>\n",
       "      <td>2020-10-12</td>\n",
       "    </tr>\n",
       "  </tbody>\n",
       "</table>\n",
       "</div>"
      ],
      "text/plain": [
       "         week     wPreis           Plz                     full       date\n",
       "2004  2020-37 -29.244584  ['48', '49']  A2 & A3 -  geschreddert 2020-09-14\n",
       "2005  2020-38 -27.878925  ['48', '49']  A2 & A3 -  geschreddert 2020-09-21\n",
       "2006  2020-39 -25.077400  ['48', '49']  A2 & A3 -  geschreddert 2020-09-28\n",
       "2007  2020-40 -25.663645  ['48', '49']  A2 & A3 -  geschreddert 2020-10-05\n",
       "2008  2020-41 -24.004958  ['48', '49']  A2 & A3 -  geschreddert 2020-10-12"
      ]
     },
     "execution_count": 11,
     "metadata": {},
     "output_type": "execute_result"
    }
   ],
   "source": [
    "TS3 = df[(df['Plz'] == \"['48', '49']\") & (df['full'] == 'A2 & A3 -  geschreddert')]\n",
    "TS3.head()"
   ]
  },
  {
   "cell_type": "code",
   "execution_count": 12,
   "id": "91f7d488-0c2b-4691-8a47-7208f24be4fe",
   "metadata": {},
   "outputs": [
    {
     "name": "stdout",
     "output_type": "stream",
     "text": [
      "<class 'pandas.core.frame.DataFrame'>\n",
      "Index: 150 entries, 2004 to 2153\n",
      "Data columns (total 5 columns):\n",
      " #   Column  Non-Null Count  Dtype         \n",
      "---  ------  --------------  -----         \n",
      " 0   week    150 non-null    object        \n",
      " 1   wPreis  150 non-null    float64       \n",
      " 2   Plz     150 non-null    object        \n",
      " 3   full    150 non-null    object        \n",
      " 4   date    150 non-null    datetime64[ns]\n",
      "dtypes: datetime64[ns](1), float64(1), object(3)\n",
      "memory usage: 7.0+ KB\n"
     ]
    }
   ],
   "source": [
    "TS3.info()"
   ]
  },
  {
   "cell_type": "code",
   "execution_count": 13,
   "id": "e4fb203a-a4b1-497c-820f-10f8c2371a8f",
   "metadata": {},
   "outputs": [
    {
     "data": {
      "text/html": [
       "<div>\n",
       "<style scoped>\n",
       "    .dataframe tbody tr th:only-of-type {\n",
       "        vertical-align: middle;\n",
       "    }\n",
       "\n",
       "    .dataframe tbody tr th {\n",
       "        vertical-align: top;\n",
       "    }\n",
       "\n",
       "    .dataframe thead th {\n",
       "        text-align: right;\n",
       "    }\n",
       "</style>\n",
       "<table border=\"1\" class=\"dataframe\">\n",
       "  <thead>\n",
       "    <tr style=\"text-align: right;\">\n",
       "      <th></th>\n",
       "      <th>week</th>\n",
       "      <th>wPreis</th>\n",
       "      <th>Plz</th>\n",
       "      <th>full</th>\n",
       "      <th>date</th>\n",
       "    </tr>\n",
       "  </thead>\n",
       "  <tbody>\n",
       "    <tr>\n",
       "      <th>464</th>\n",
       "      <td>2020-37</td>\n",
       "      <td>-28.311162</td>\n",
       "      <td>['26', '27', '28']</td>\n",
       "      <td>A3 -  geschreddert</td>\n",
       "      <td>2020-09-14</td>\n",
       "    </tr>\n",
       "    <tr>\n",
       "      <th>465</th>\n",
       "      <td>2020-38</td>\n",
       "      <td>-31.281060</td>\n",
       "      <td>['26', '27', '28']</td>\n",
       "      <td>A3 -  geschreddert</td>\n",
       "      <td>2020-09-21</td>\n",
       "    </tr>\n",
       "    <tr>\n",
       "      <th>466</th>\n",
       "      <td>2020-39</td>\n",
       "      <td>-32.255530</td>\n",
       "      <td>['26', '27', '28']</td>\n",
       "      <td>A3 -  geschreddert</td>\n",
       "      <td>2020-09-28</td>\n",
       "    </tr>\n",
       "    <tr>\n",
       "      <th>467</th>\n",
       "      <td>2020-40</td>\n",
       "      <td>-28.939862</td>\n",
       "      <td>['26', '27', '28']</td>\n",
       "      <td>A3 -  geschreddert</td>\n",
       "      <td>2020-10-05</td>\n",
       "    </tr>\n",
       "    <tr>\n",
       "      <th>468</th>\n",
       "      <td>2020-41</td>\n",
       "      <td>-30.470931</td>\n",
       "      <td>['26', '27', '28']</td>\n",
       "      <td>A3 -  geschreddert</td>\n",
       "      <td>2020-10-12</td>\n",
       "    </tr>\n",
       "  </tbody>\n",
       "</table>\n",
       "</div>"
      ],
      "text/plain": [
       "        week     wPreis                 Plz                full       date\n",
       "464  2020-37 -28.311162  ['26', '27', '28']  A3 -  geschreddert 2020-09-14\n",
       "465  2020-38 -31.281060  ['26', '27', '28']  A3 -  geschreddert 2020-09-21\n",
       "466  2020-39 -32.255530  ['26', '27', '28']  A3 -  geschreddert 2020-09-28\n",
       "467  2020-40 -28.939862  ['26', '27', '28']  A3 -  geschreddert 2020-10-05\n",
       "468  2020-41 -30.470931  ['26', '27', '28']  A3 -  geschreddert 2020-10-12"
      ]
     },
     "execution_count": 13,
     "metadata": {},
     "output_type": "execute_result"
    }
   ],
   "source": [
    "TS4 = df[(df['Plz'] == \"['26', '27', '28']\") & (df['full'] == 'A3 -  geschreddert')]\n",
    "TS4.head()"
   ]
  },
  {
   "cell_type": "code",
   "execution_count": 14,
   "id": "c8560cdf-5797-4f01-86a6-e1d7e3d0b750",
   "metadata": {},
   "outputs": [
    {
     "name": "stdout",
     "output_type": "stream",
     "text": [
      "<class 'pandas.core.frame.DataFrame'>\n",
      "Index: 153 entries, 464 to 616\n",
      "Data columns (total 5 columns):\n",
      " #   Column  Non-Null Count  Dtype         \n",
      "---  ------  --------------  -----         \n",
      " 0   week    153 non-null    object        \n",
      " 1   wPreis  153 non-null    float64       \n",
      " 2   Plz     153 non-null    object        \n",
      " 3   full    153 non-null    object        \n",
      " 4   date    153 non-null    datetime64[ns]\n",
      "dtypes: datetime64[ns](1), float64(1), object(3)\n",
      "memory usage: 7.2+ KB\n"
     ]
    }
   ],
   "source": [
    "TS4.info()"
   ]
  },
  {
   "cell_type": "markdown",
   "id": "66e88481",
   "metadata": {},
   "source": [
    "Nilou: I'm going to work with these clusters:\n",
    "\"['25', '24']\"\n",
    "\"['26', '27', '28']\"\n",
    "\"['20', '21', '22', '23']\"\n",
    "So first I created my sub-data frames, and then plotted the time series for each product category."
   ]
  },
  {
   "cell_type": "code",
   "execution_count": 16,
   "id": "4ef5f82e",
   "metadata": {},
   "outputs": [
    {
     "data": {
      "text/plain": [
       "array(['A2 -  geschreddert', 'A1 & A2 -  geschreddert',\n",
       "       'A2 & A3 -  geschreddert'], dtype=object)"
      ]
     },
     "execution_count": 16,
     "metadata": {},
     "output_type": "execute_result"
    }
   ],
   "source": [
    "plz_24_25 = df[df['Plz']==\"['25', '24']\"]\n",
    "plz_24_25['full'].unique()"
   ]
  },
  {
   "cell_type": "code",
   "execution_count": 24,
   "id": "7c999173",
   "metadata": {},
   "outputs": [
    {
     "data": {
      "text/plain": [
       "dif\n",
       "7 days     149\n",
       "14 days      3\n",
       "0 days       1\n",
       "Name: count, dtype: int64"
      ]
     },
     "execution_count": 24,
     "metadata": {},
     "output_type": "execute_result"
    }
   ],
   "source": [
    "plz_24_25_A2 = plz_24_25[plz_24_25['full']== 'A2 -  geschreddert']\n",
    "pd.options.mode.chained_assignment = None\n",
    "plz_24_25_A2['dif']= plz_24_25_A2.date.diff()\n",
    "pd.options.mode.chained_assignment = 'warn'\n",
    "plz_24_25_A2['dif'].value_counts()"
   ]
  },
  {
   "cell_type": "code",
   "execution_count": 23,
   "id": "7f7d1684",
   "metadata": {},
   "outputs": [
    {
     "data": {
      "text/plain": [
       "dif\n",
       "7 days     149\n",
       "14 days      3\n",
       "0 days       1\n",
       "Name: count, dtype: int64"
      ]
     },
     "execution_count": 23,
     "metadata": {},
     "output_type": "execute_result"
    }
   ],
   "source": [
    "plz_24_25_A1_A2 = plz_24_25[plz_24_25['full'] == 'A1 & A2 -  geschreddert']\n",
    "pd.options.mode.chained_assignment = None\n",
    "plz_24_25_A1_A2['dif']= plz_24_25_A1_A2.date.diff()\n",
    "pd.options.mode.chained_assignment = 'warn'\n",
    "plz_24_25_A1_A2['dif'].value_counts()"
   ]
  },
  {
   "cell_type": "code",
   "execution_count": 25,
   "id": "be478288",
   "metadata": {},
   "outputs": [
    {
     "data": {
      "text/plain": [
       "dif\n",
       "7 days     153\n",
       "0 days       1\n",
       "14 days      1\n",
       "Name: count, dtype: int64"
      ]
     },
     "execution_count": 25,
     "metadata": {},
     "output_type": "execute_result"
    }
   ],
   "source": [
    "plz_24_25_A2_A3 = plz_24_25[plz_24_25['full'] == 'A2 & A3 -  geschreddert']\n",
    "pd.options.mode.chained_assignment = None\n",
    "plz_24_25_A2_A3['dif']= plz_24_25_A2_A3.date.diff()\n",
    "pd.options.mode.chained_assignment = 'warn'\n",
    "plz_24_25_A2_A3['dif'].value_counts()"
   ]
  },
  {
   "cell_type": "markdown",
   "id": "ec6dfaa8",
   "metadata": {},
   "source": [
    "## Should we fill out the time gap? if yes, HOW?"
   ]
  },
  {
   "cell_type": "code",
   "execution_count": 42,
   "id": "5842c40a",
   "metadata": {},
   "outputs": [
    {
     "data": {
      "application/vnd.plotly.v1+json": {
       "config": {
        "plotlyServerURL": "https://plot.ly"
       },
       "data": [
        {
         "hovertemplate": "full=A2 -  geschreddert<br>date=%{x}<br>wPreis=%{y}<extra></extra>",
         "legendgroup": "A2 -  geschreddert",
         "line": {
          "color": "#636efa",
          "dash": "solid"
         },
         "marker": {
          "symbol": "circle"
         },
         "mode": "lines",
         "name": "A2 -  geschreddert",
         "orientation": "v",
         "showlegend": true,
         "type": "scatter",
         "x": [
          "2020-09-14T00:00:00",
          "2020-09-28T00:00:00",
          "2020-10-12T00:00:00",
          "2020-10-19T00:00:00",
          "2020-10-26T00:00:00",
          "2020-11-02T00:00:00",
          "2020-11-09T00:00:00",
          "2020-11-16T00:00:00",
          "2020-11-23T00:00:00",
          "2020-11-30T00:00:00",
          "2020-12-07T00:00:00",
          "2020-12-14T00:00:00",
          "2020-12-21T00:00:00",
          "2020-12-28T00:00:00",
          "2021-01-04T00:00:00",
          "2021-01-04T00:00:00",
          "2021-01-11T00:00:00",
          "2021-01-18T00:00:00",
          "2021-01-25T00:00:00",
          "2021-02-01T00:00:00",
          "2021-02-08T00:00:00",
          "2021-02-15T00:00:00",
          "2021-02-22T00:00:00",
          "2021-03-01T00:00:00",
          "2021-03-08T00:00:00",
          "2021-03-15T00:00:00",
          "2021-03-22T00:00:00",
          "2021-03-29T00:00:00",
          "2021-04-05T00:00:00",
          "2021-04-12T00:00:00",
          "2021-04-19T00:00:00",
          "2021-04-26T00:00:00",
          "2021-05-03T00:00:00",
          "2021-05-10T00:00:00",
          "2021-05-17T00:00:00",
          "2021-05-24T00:00:00",
          "2021-05-31T00:00:00",
          "2021-06-07T00:00:00",
          "2021-06-14T00:00:00",
          "2021-06-21T00:00:00",
          "2021-06-28T00:00:00",
          "2021-07-05T00:00:00",
          "2021-07-12T00:00:00",
          "2021-07-19T00:00:00",
          "2021-07-26T00:00:00",
          "2021-08-02T00:00:00",
          "2021-08-09T00:00:00",
          "2021-08-16T00:00:00",
          "2021-08-23T00:00:00",
          "2021-08-30T00:00:00",
          "2021-09-06T00:00:00",
          "2021-09-13T00:00:00",
          "2021-09-20T00:00:00",
          "2021-09-27T00:00:00",
          "2021-10-04T00:00:00",
          "2021-10-11T00:00:00",
          "2021-10-18T00:00:00",
          "2021-10-25T00:00:00",
          "2021-11-01T00:00:00",
          "2021-11-08T00:00:00",
          "2021-11-15T00:00:00",
          "2021-11-22T00:00:00",
          "2021-11-29T00:00:00",
          "2021-12-06T00:00:00",
          "2021-12-13T00:00:00",
          "2021-12-20T00:00:00",
          "2021-12-27T00:00:00",
          "2022-01-03T00:00:00",
          "2022-01-10T00:00:00",
          "2022-01-17T00:00:00",
          "2022-01-24T00:00:00",
          "2022-01-31T00:00:00",
          "2022-02-07T00:00:00",
          "2022-02-14T00:00:00",
          "2022-02-21T00:00:00",
          "2022-02-28T00:00:00",
          "2022-03-07T00:00:00",
          "2022-03-14T00:00:00",
          "2022-03-21T00:00:00",
          "2022-03-28T00:00:00",
          "2022-04-04T00:00:00",
          "2022-04-11T00:00:00",
          "2022-04-18T00:00:00",
          "2022-04-25T00:00:00",
          "2022-05-02T00:00:00",
          "2022-05-09T00:00:00",
          "2022-05-16T00:00:00",
          "2022-05-23T00:00:00",
          "2022-05-30T00:00:00",
          "2022-06-06T00:00:00",
          "2022-06-13T00:00:00",
          "2022-06-20T00:00:00",
          "2022-06-27T00:00:00",
          "2022-07-04T00:00:00",
          "2022-07-11T00:00:00",
          "2022-07-18T00:00:00",
          "2022-07-25T00:00:00",
          "2022-08-01T00:00:00",
          "2022-08-08T00:00:00",
          "2022-08-15T00:00:00",
          "2022-08-22T00:00:00",
          "2022-08-29T00:00:00",
          "2022-09-05T00:00:00",
          "2022-09-12T00:00:00",
          "2022-09-19T00:00:00",
          "2022-09-26T00:00:00",
          "2022-10-03T00:00:00",
          "2022-10-10T00:00:00",
          "2022-10-17T00:00:00",
          "2022-10-24T00:00:00",
          "2022-10-31T00:00:00",
          "2022-11-07T00:00:00",
          "2022-11-14T00:00:00",
          "2022-11-21T00:00:00",
          "2022-11-28T00:00:00",
          "2022-12-05T00:00:00",
          "2022-12-12T00:00:00",
          "2022-12-19T00:00:00",
          "2022-12-26T00:00:00",
          "2023-01-02T00:00:00",
          "2023-01-09T00:00:00",
          "2023-01-16T00:00:00",
          "2023-01-23T00:00:00",
          "2023-01-30T00:00:00",
          "2023-02-06T00:00:00",
          "2023-02-13T00:00:00",
          "2023-02-20T00:00:00",
          "2023-02-27T00:00:00",
          "2023-03-06T00:00:00",
          "2023-03-13T00:00:00",
          "2023-03-20T00:00:00",
          "2023-03-27T00:00:00",
          "2023-04-03T00:00:00",
          "2023-04-17T00:00:00",
          "2023-04-24T00:00:00",
          "2023-05-01T00:00:00",
          "2023-05-08T00:00:00",
          "2023-05-15T00:00:00",
          "2023-05-22T00:00:00",
          "2023-05-29T00:00:00",
          "2023-06-05T00:00:00",
          "2023-06-12T00:00:00",
          "2023-06-19T00:00:00",
          "2023-06-26T00:00:00",
          "2023-07-03T00:00:00",
          "2023-07-10T00:00:00",
          "2023-07-17T00:00:00",
          "2023-07-24T00:00:00",
          "2023-07-31T00:00:00",
          "2023-08-07T00:00:00",
          "2023-08-14T00:00:00",
          "2023-08-21T00:00:00",
          "2023-08-28T00:00:00",
          "2023-09-04T00:00:00"
         ],
         "xaxis": "x",
         "y": [
          -37.51931787903011,
          -40.00000000000001,
          -34.85354279168712,
          -27.56020236087689,
          -31.93778046254747,
          -32.52671690722527,
          -37.57803502879079,
          -31.75025473183685,
          -32.24651762682717,
          -33.1754414385226,
          -32.78658679271774,
          -36.04361624445318,
          -30.55550564681725,
          -30.07831868379536,
          -29.03192233688998,
          -35.43666563179137,
          -34.29846037354871,
          -30.14342493754258,
          -31.41962305986696,
          -25.46027348815278,
          -26.49098360655738,
          -25.18765020026702,
          -28.73738619255861,
          -28.02251971570441,
          -26.11755686174291,
          -27.3451105457412,
          -23.70893326160565,
          -26.82027272727272,
          -27.54805742235654,
          -24.89228688596108,
          -27.39113765391138,
          -27.67263427109974,
          -28.37931186202042,
          -27.76990573990344,
          -26.62505984542782,
          -29.66626605098362,
          -28.9832150597034,
          -28.30585269223843,
          -27.58978936094252,
          -27.98026067520102,
          -26.99755640356163,
          -29.3175390793059,
          -27.19672304068071,
          -27.85631829237304,
          -25.04087521038711,
          -29.96761133603239,
          -29.90731669983162,
          -27.19223280534652,
          -26.62173386399031,
          -30.93294861225612,
          -27.95520005804041,
          -23.55772630351188,
          -22.93310517728521,
          -24.09699700964495,
          -22.75941053980458,
          -26.61655272551273,
          -24.21471224578105,
          -17.78619096509241,
          -21.70929911699779,
          -17.00256607646908,
          -7.727015361178112,
          -11.52176411985593,
          0.5174745526186174,
          -0.4126384140029477,
          2.10636074645317,
          5.037907437421211,
          11.91150442477876,
          -5.566824644549763,
          -2.600081353174469,
          -1.255409582689335,
          8.00882374523041,
          7.179988553987028,
          11.10475626815883,
          12.17049369665649,
          14.40260952246795,
          11.33848884381339,
          9.766418042192603,
          13.38536395484624,
          17.47775728513463,
          11.97180318208604,
          18.44124289918554,
          18.16843231305428,
          12.6417508874268,
          11.4922765651142,
          21.43183753515857,
          19.05758113877659,
          17.19429807064964,
          14.24464251972609,
          14.73305223435184,
          11.89313843278601,
          19.65457846363327,
          16.19355476472914,
          23.50967078830162,
          29.84362709555511,
          33.75908908612183,
          30.64081537925965,
          36.03124858475613,
          29.00328012702658,
          30.38176088494437,
          32.93534805723053,
          39.79876060013046,
          40.11320503606697,
          50.39127519881634,
          56.23903155071492,
          54.01274874855129,
          55.84152339695862,
          54.63306047807725,
          64.31113949355843,
          57.85421826280621,
          52.40328802351213,
          55.6822468601923,
          60.21222688388819,
          54.88947804473902,
          48.55900821123812,
          59.03377069869661,
          49.48603151862464,
          60.42879120159733,
          63.332443574458,
          56.47094205002696,
          50.30054868208715,
          56.65608213263719,
          56.72815816637112,
          57.59524871974671,
          58.59646779063243,
          59.23911078980662,
          49.12755697984365,
          48.53067116885659,
          49.57276585617389,
          40.40251437551341,
          41.08861283643891,
          37.73483947681331,
          35.20653001381565,
          34.0927502402856,
          28.94868895942949,
          29.30384936603143,
          24.10657193605684,
          24.47332581947967,
          23.42381348875936,
          23.4967418546366,
          25.85122254455035,
          24.10918685892672,
          26.47195059186825,
          22.85337552742616,
          20.33107760836046,
          16.27763032599227,
          13.20386545251812,
          9.208065103850357,
          4.06330438718072,
          7.458213826525567,
          7.83274998784697,
          3.525113215314945,
          2.021427022337888,
          5.373641226203484,
          2.053264604810996
         ],
         "yaxis": "y"
        },
        {
         "hovertemplate": "full=A1 & A2 -  geschreddert<br>date=%{x}<br>wPreis=%{y}<extra></extra>",
         "legendgroup": "A1 & A2 -  geschreddert",
         "line": {
          "color": "#EF553B",
          "dash": "solid"
         },
         "marker": {
          "symbol": "circle"
         },
         "mode": "lines",
         "name": "A1 & A2 -  geschreddert",
         "orientation": "v",
         "showlegend": true,
         "type": "scatter",
         "x": [
          "2020-09-14T00:00:00",
          "2020-09-28T00:00:00",
          "2020-10-12T00:00:00",
          "2020-10-19T00:00:00",
          "2020-10-26T00:00:00",
          "2020-11-02T00:00:00",
          "2020-11-09T00:00:00",
          "2020-11-16T00:00:00",
          "2020-11-23T00:00:00",
          "2020-11-30T00:00:00",
          "2020-12-07T00:00:00",
          "2020-12-14T00:00:00",
          "2020-12-21T00:00:00",
          "2020-12-28T00:00:00",
          "2021-01-04T00:00:00",
          "2021-01-04T00:00:00",
          "2021-01-11T00:00:00",
          "2021-01-18T00:00:00",
          "2021-01-25T00:00:00",
          "2021-02-01T00:00:00",
          "2021-02-08T00:00:00",
          "2021-02-15T00:00:00",
          "2021-02-22T00:00:00",
          "2021-03-01T00:00:00",
          "2021-03-08T00:00:00",
          "2021-03-15T00:00:00",
          "2021-03-22T00:00:00",
          "2021-03-29T00:00:00",
          "2021-04-05T00:00:00",
          "2021-04-12T00:00:00",
          "2021-04-19T00:00:00",
          "2021-04-26T00:00:00",
          "2021-05-03T00:00:00",
          "2021-05-10T00:00:00",
          "2021-05-17T00:00:00",
          "2021-05-24T00:00:00",
          "2021-05-31T00:00:00",
          "2021-06-07T00:00:00",
          "2021-06-14T00:00:00",
          "2021-06-21T00:00:00",
          "2021-06-28T00:00:00",
          "2021-07-05T00:00:00",
          "2021-07-12T00:00:00",
          "2021-07-19T00:00:00",
          "2021-07-26T00:00:00",
          "2021-08-02T00:00:00",
          "2021-08-09T00:00:00",
          "2021-08-16T00:00:00",
          "2021-08-23T00:00:00",
          "2021-08-30T00:00:00",
          "2021-09-06T00:00:00",
          "2021-09-13T00:00:00",
          "2021-09-20T00:00:00",
          "2021-09-27T00:00:00",
          "2021-10-04T00:00:00",
          "2021-10-11T00:00:00",
          "2021-10-18T00:00:00",
          "2021-10-25T00:00:00",
          "2021-11-01T00:00:00",
          "2021-11-08T00:00:00",
          "2021-11-15T00:00:00",
          "2021-11-22T00:00:00",
          "2021-11-29T00:00:00",
          "2021-12-06T00:00:00",
          "2021-12-13T00:00:00",
          "2021-12-20T00:00:00",
          "2021-12-27T00:00:00",
          "2022-01-03T00:00:00",
          "2022-01-10T00:00:00",
          "2022-01-17T00:00:00",
          "2022-01-24T00:00:00",
          "2022-01-31T00:00:00",
          "2022-02-07T00:00:00",
          "2022-02-14T00:00:00",
          "2022-02-21T00:00:00",
          "2022-02-28T00:00:00",
          "2022-03-07T00:00:00",
          "2022-03-14T00:00:00",
          "2022-03-21T00:00:00",
          "2022-03-28T00:00:00",
          "2022-04-04T00:00:00",
          "2022-04-11T00:00:00",
          "2022-04-18T00:00:00",
          "2022-04-25T00:00:00",
          "2022-05-02T00:00:00",
          "2022-05-09T00:00:00",
          "2022-05-16T00:00:00",
          "2022-05-23T00:00:00",
          "2022-05-30T00:00:00",
          "2022-06-06T00:00:00",
          "2022-06-13T00:00:00",
          "2022-06-20T00:00:00",
          "2022-06-27T00:00:00",
          "2022-07-04T00:00:00",
          "2022-07-11T00:00:00",
          "2022-07-18T00:00:00",
          "2022-07-25T00:00:00",
          "2022-08-01T00:00:00",
          "2022-08-08T00:00:00",
          "2022-08-15T00:00:00",
          "2022-08-22T00:00:00",
          "2022-08-29T00:00:00",
          "2022-09-05T00:00:00",
          "2022-09-12T00:00:00",
          "2022-09-19T00:00:00",
          "2022-09-26T00:00:00",
          "2022-10-03T00:00:00",
          "2022-10-10T00:00:00",
          "2022-10-17T00:00:00",
          "2022-10-24T00:00:00",
          "2022-10-31T00:00:00",
          "2022-11-07T00:00:00",
          "2022-11-14T00:00:00",
          "2022-11-21T00:00:00",
          "2022-11-28T00:00:00",
          "2022-12-05T00:00:00",
          "2022-12-12T00:00:00",
          "2022-12-19T00:00:00",
          "2022-12-26T00:00:00",
          "2023-01-02T00:00:00",
          "2023-01-09T00:00:00",
          "2023-01-16T00:00:00",
          "2023-01-23T00:00:00",
          "2023-01-30T00:00:00",
          "2023-02-06T00:00:00",
          "2023-02-13T00:00:00",
          "2023-02-20T00:00:00",
          "2023-02-27T00:00:00",
          "2023-03-06T00:00:00",
          "2023-03-13T00:00:00",
          "2023-03-20T00:00:00",
          "2023-03-27T00:00:00",
          "2023-04-03T00:00:00",
          "2023-04-17T00:00:00",
          "2023-04-24T00:00:00",
          "2023-05-01T00:00:00",
          "2023-05-08T00:00:00",
          "2023-05-15T00:00:00",
          "2023-05-22T00:00:00",
          "2023-05-29T00:00:00",
          "2023-06-05T00:00:00",
          "2023-06-12T00:00:00",
          "2023-06-19T00:00:00",
          "2023-06-26T00:00:00",
          "2023-07-03T00:00:00",
          "2023-07-10T00:00:00",
          "2023-07-17T00:00:00",
          "2023-07-24T00:00:00",
          "2023-07-31T00:00:00",
          "2023-08-07T00:00:00",
          "2023-08-14T00:00:00",
          "2023-08-21T00:00:00",
          "2023-08-28T00:00:00",
          "2023-09-04T00:00:00"
         ],
         "xaxis": "x",
         "y": [
          -37.51931787903011,
          -28.69009584664537,
          -29.68807862127902,
          -25.63043340313471,
          -29.07379398185002,
          -24.93642601939546,
          -35.26209517327435,
          -28.06563229247695,
          -27.35874870928377,
          -28.21685812953697,
          -29.185208152466,
          -32.36064526025155,
          -20.27214677298779,
          -18.80845202902446,
          -23.58340466509737,
          -35.43666563179137,
          -23.06625847364968,
          -22.9978423364414,
          -31.41962305986696,
          -25.46027348815278,
          -23.68194297273865,
          -21.47771258898866,
          -27.02904784591302,
          -24.8227644420997,
          -23.25520954193159,
          -25.32197924014915,
          -22.3041302077707,
          -23.38024324324325,
          -25.1701500239596,
          -20.85821571439354,
          -23.60348981053454,
          -24.8604427333975,
          -23.64540854855762,
          -25.72826243173326,
          -20.17778382793357,
          -26.3685111237878,
          -21.90534062108766,
          -23.64226890984699,
          -25.04513086536194,
          -24.65590186506446,
          -21.77319638173216,
          -24.946143097364,
          -23.90837982230881,
          -25.23754357455508,
          -19.7332475502326,
          -24.54094226048357,
          -24.73818078129456,
          -22.97021231271746,
          -19.21154855643044,
          -16.66741516966068,
          -26.54786464860696,
          -22.45099312573257,
          -22.93310517728521,
          -23.38212367352287,
          -23.28028169014085,
          -26.65816299012998,
          -22.07703349282297,
          -17.78619096509241,
          -18.98931101366166,
          -7.411272845481473,
          -6.211318824404761,
          -1.980352874217417,
          1.612151480417405,
          0.4808409951325044,
          1.990702339323954,
          5.500217813155914,
          10.8484692753836,
          -5.714546148302031,
          -2.600081353174469,
          -0.3074132520723367,
          8.00688894617742,
          7.293524453523044,
          11.90659031979256,
          11.88464343671936,
          14.97326405422818,
          14.46308047303144,
          12.9927654406662,
          15.55561410341588,
          17.64510071696825,
          12.42782903512673,
          17.67161689182559,
          18.16843231305428,
          13.76791370779073,
          11.4922765651142,
          21.43183753515857,
          19.05758113877659,
          19.05638567196337,
          14.24464251972609,
          14.73305223435184,
          11.89313843278601,
          20.35194190636107,
          17.20689191370312,
          23.50967078830162,
          29.84362709555511,
          33.8662963025694,
          33.07728872600602,
          40.82938591374012,
          30.46845158950805,
          34.17840320986218,
          32.93534805723053,
          39.79876060013046,
          40.11320503606697,
          50.39127519881634,
          56.23903155071492,
          54.01274874855129,
          55.84152339695862,
          54.63306047807725,
          64.31113949355843,
          56.73685274059108,
          54.0163346347649,
          56.2660518070694,
          60.6750934385382,
          54.88947804473902,
          54.90472829922371,
          59.03377069869661,
          49.48603151862464,
          60.42879120159733,
          63.332443574458,
          56.47094205002696,
          53.84036451567778,
          60.88049388309923,
          61.03731794080139,
          59.19415192720583,
          58.59646779063243,
          64.03122333533483,
          51.53310595597146,
          50.49505390685784,
          52.36150974415179,
          42.26412038400377,
          41.08861283643891,
          38.87791512680005,
          35.20653001381565,
          34.0927502402856,
          28.94868895942949,
          31.31003406187908,
          24.10657193605684,
          24.47332581947967,
          26.67494884536685,
          27.48701353998126,
          34.47253848255761,
          34.00318809776834,
          27.24864539434076,
          25.67309830960854,
          22.5016905853182,
          18.51417815863648,
          28.98555410910007,
          16.84723416451705,
          4.06330438718072,
          7.458213826525567,
          7.83274998784697,
          3.525113215314945,
          3.896402411881346,
          6.754482645171904,
          2.053264604810996
         ],
         "yaxis": "y"
        },
        {
         "hovertemplate": "full=A2 & A3 -  geschreddert<br>date=%{x}<br>wPreis=%{y}<extra></extra>",
         "legendgroup": "A2 & A3 -  geschreddert",
         "line": {
          "color": "#00cc96",
          "dash": "solid"
         },
         "marker": {
          "symbol": "circle"
         },
         "mode": "lines",
         "name": "A2 & A3 -  geschreddert",
         "orientation": "v",
         "showlegend": true,
         "type": "scatter",
         "x": [
          "2020-09-14T00:00:00",
          "2020-09-21T00:00:00",
          "2020-09-28T00:00:00",
          "2020-10-05T00:00:00",
          "2020-10-12T00:00:00",
          "2020-10-19T00:00:00",
          "2020-10-26T00:00:00",
          "2020-11-02T00:00:00",
          "2020-11-09T00:00:00",
          "2020-11-16T00:00:00",
          "2020-11-23T00:00:00",
          "2020-11-30T00:00:00",
          "2020-12-07T00:00:00",
          "2020-12-14T00:00:00",
          "2020-12-21T00:00:00",
          "2020-12-28T00:00:00",
          "2021-01-04T00:00:00",
          "2021-01-04T00:00:00",
          "2021-01-11T00:00:00",
          "2021-01-18T00:00:00",
          "2021-01-25T00:00:00",
          "2021-02-01T00:00:00",
          "2021-02-08T00:00:00",
          "2021-02-15T00:00:00",
          "2021-02-22T00:00:00",
          "2021-03-01T00:00:00",
          "2021-03-08T00:00:00",
          "2021-03-15T00:00:00",
          "2021-03-22T00:00:00",
          "2021-03-29T00:00:00",
          "2021-04-05T00:00:00",
          "2021-04-12T00:00:00",
          "2021-04-19T00:00:00",
          "2021-04-26T00:00:00",
          "2021-05-03T00:00:00",
          "2021-05-10T00:00:00",
          "2021-05-17T00:00:00",
          "2021-05-24T00:00:00",
          "2021-05-31T00:00:00",
          "2021-06-07T00:00:00",
          "2021-06-14T00:00:00",
          "2021-06-21T00:00:00",
          "2021-06-28T00:00:00",
          "2021-07-05T00:00:00",
          "2021-07-12T00:00:00",
          "2021-07-19T00:00:00",
          "2021-07-26T00:00:00",
          "2021-08-02T00:00:00",
          "2021-08-09T00:00:00",
          "2021-08-16T00:00:00",
          "2021-08-23T00:00:00",
          "2021-08-30T00:00:00",
          "2021-09-06T00:00:00",
          "2021-09-13T00:00:00",
          "2021-09-20T00:00:00",
          "2021-09-27T00:00:00",
          "2021-10-04T00:00:00",
          "2021-10-11T00:00:00",
          "2021-10-18T00:00:00",
          "2021-10-25T00:00:00",
          "2021-11-01T00:00:00",
          "2021-11-08T00:00:00",
          "2021-11-15T00:00:00",
          "2021-11-22T00:00:00",
          "2021-11-29T00:00:00",
          "2021-12-06T00:00:00",
          "2021-12-13T00:00:00",
          "2021-12-20T00:00:00",
          "2021-12-27T00:00:00",
          "2022-01-03T00:00:00",
          "2022-01-10T00:00:00",
          "2022-01-17T00:00:00",
          "2022-01-24T00:00:00",
          "2022-01-31T00:00:00",
          "2022-02-07T00:00:00",
          "2022-02-14T00:00:00",
          "2022-02-21T00:00:00",
          "2022-02-28T00:00:00",
          "2022-03-07T00:00:00",
          "2022-03-14T00:00:00",
          "2022-03-21T00:00:00",
          "2022-03-28T00:00:00",
          "2022-04-04T00:00:00",
          "2022-04-11T00:00:00",
          "2022-04-18T00:00:00",
          "2022-04-25T00:00:00",
          "2022-05-02T00:00:00",
          "2022-05-09T00:00:00",
          "2022-05-16T00:00:00",
          "2022-05-23T00:00:00",
          "2022-05-30T00:00:00",
          "2022-06-06T00:00:00",
          "2022-06-13T00:00:00",
          "2022-06-20T00:00:00",
          "2022-06-27T00:00:00",
          "2022-07-04T00:00:00",
          "2022-07-11T00:00:00",
          "2022-07-18T00:00:00",
          "2022-07-25T00:00:00",
          "2022-08-01T00:00:00",
          "2022-08-08T00:00:00",
          "2022-08-15T00:00:00",
          "2022-08-22T00:00:00",
          "2022-08-29T00:00:00",
          "2022-09-05T00:00:00",
          "2022-09-12T00:00:00",
          "2022-09-19T00:00:00",
          "2022-09-26T00:00:00",
          "2022-10-03T00:00:00",
          "2022-10-10T00:00:00",
          "2022-10-17T00:00:00",
          "2022-10-24T00:00:00",
          "2022-10-31T00:00:00",
          "2022-11-07T00:00:00",
          "2022-11-14T00:00:00",
          "2022-11-21T00:00:00",
          "2022-11-28T00:00:00",
          "2022-12-05T00:00:00",
          "2022-12-12T00:00:00",
          "2022-12-19T00:00:00",
          "2022-12-26T00:00:00",
          "2023-01-02T00:00:00",
          "2023-01-09T00:00:00",
          "2023-01-16T00:00:00",
          "2023-01-23T00:00:00",
          "2023-01-30T00:00:00",
          "2023-02-06T00:00:00",
          "2023-02-13T00:00:00",
          "2023-02-20T00:00:00",
          "2023-02-27T00:00:00",
          "2023-03-06T00:00:00",
          "2023-03-13T00:00:00",
          "2023-03-20T00:00:00",
          "2023-03-27T00:00:00",
          "2023-04-03T00:00:00",
          "2023-04-17T00:00:00",
          "2023-04-24T00:00:00",
          "2023-05-01T00:00:00",
          "2023-05-08T00:00:00",
          "2023-05-15T00:00:00",
          "2023-05-22T00:00:00",
          "2023-05-29T00:00:00",
          "2023-06-05T00:00:00",
          "2023-06-12T00:00:00",
          "2023-06-19T00:00:00",
          "2023-06-26T00:00:00",
          "2023-07-03T00:00:00",
          "2023-07-10T00:00:00",
          "2023-07-17T00:00:00",
          "2023-07-24T00:00:00",
          "2023-07-31T00:00:00",
          "2023-08-07T00:00:00",
          "2023-08-14T00:00:00",
          "2023-08-21T00:00:00",
          "2023-08-28T00:00:00",
          "2023-09-04T00:00:00"
         ],
         "xaxis": "x",
         "y": [
          -27.98387698738524,
          -27.49502376042321,
          -29.0924416579589,
          -29.85622119815668,
          -30.55288243304584,
          -26.67094252643183,
          -29.64624152890805,
          -30.1276529952492,
          -33.6401843640097,
          -30.05225414677945,
          -31.66641744869547,
          -29.93670773076237,
          -32.67812781801786,
          -33.30240620547728,
          -29.0591767604188,
          -28.84409519533004,
          -27.59124857931482,
          -30.11998123827392,
          -30.12254785164006,
          -23.62679951898299,
          -25.60807181227029,
          -25.53766139228382,
          -26.33411023350166,
          -23.24381522192849,
          -27.01600331579492,
          -26.25611570875408,
          -23.02171168896743,
          -24.79968155103379,
          -25.18443739223868,
          -25.41551973051011,
          -26.01352806995311,
          -26.46078746669117,
          -25.60033519553073,
          -26.35408447194651,
          -28.37931186202042,
          -27.76990573990344,
          -26.62505984542782,
          -29.66626605098362,
          -28.9832150597034,
          -28.30585269223843,
          -27.58978936094252,
          -27.98026067520102,
          -26.99755640356163,
          -29.3175390793059,
          -27.19672304068071,
          -27.85631829237304,
          -25.04087521038711,
          -29.96761133603239,
          -29.90731669983162,
          -27.19223280534652,
          -26.62173386399031,
          -30.93294861225612,
          -27.95520005804041,
          -23.55772630351188,
          -22.93310517728521,
          -24.09699700964495,
          -22.75941053980458,
          -26.61655272551273,
          -20.92252742042545,
          -17.50742695201798,
          -10.24990617963472,
          -7.606784519827999,
          -7.727015361178112,
          -11.52176411985593,
          0.5174745526186174,
          -0.4126384140029477,
          2.10636074645317,
          5.037907437421211,
          11.91150442477876,
          -5.566824644549763,
          -2.600081353174469,
          -1.255409582689335,
          8.00882374523041,
          7.179988553987028,
          11.59559515920901,
          12.2701169047554,
          14.40260952246795,
          11.86911521674648,
          10.52400701866327,
          12.97877490878473,
          15.69182099860451,
          12.08136004857317,
          18.05479123340265,
          18.16843231305428,
          12.6417508874268,
          13.07177995465628,
          21.43183753515857,
          19.05758113877659,
          17.29426573426574,
          14.24464251972609,
          14.73305223435184,
          11.89313843278601,
          19.65457846363327,
          16.19355476472914,
          23.50967078830162,
          29.84362709555511,
          33.75908908612183,
          30.64081537925965,
          36.03124858475613,
          29.00328012702658,
          30.38176088494437,
          32.93534805723053,
          39.79876060013046,
          40.11320503606697,
          49.93984197928361,
          54.76509211147849,
          54.01274874855129,
          55.84152339695862,
          54.63306047807725,
          64.31113949355843,
          55.88587553176892,
          50.69065570992881,
          55.6822468601923,
          60.21222688388819,
          54.88947804473902,
          48.55900821123812,
          59.03377069869661,
          49.48603151862464,
          60.42879120159733,
          63.332443574458,
          56.47094205002696,
          50.30054868208715,
          56.65608213263719,
          56.72815816637112,
          57.59524871974671,
          58.59646779063243,
          59.23911078980662,
          49.12755697984365,
          48.53067116885659,
          49.57276585617389,
          40.40251437551341,
          41.08861283643891,
          37.73483947681331,
          35.20653001381565,
          34.0927502402856,
          28.94868895942949,
          29.30384936603143,
          24.10657193605684,
          24.47332581947967,
          23.42381348875936,
          23.4967418546366,
          25.85122254455035,
          24.10918685892672,
          26.47195059186825,
          22.85337552742616,
          18.86769001305078,
          16.27763032599227,
          15.63313428265197,
          9.585215990408754,
          4.06330438718072,
          7.458213826525567,
          7.83274998784697,
          3.525113215314945,
          2.021427022337888,
          5.373641226203484,
          2.053264604810996
         ],
         "yaxis": "y"
        }
       ],
       "layout": {
        "legend": {
         "title": {
          "text": "full"
         },
         "tracegroupgap": 0
        },
        "template": {
         "data": {
          "bar": [
           {
            "error_x": {
             "color": "#2a3f5f"
            },
            "error_y": {
             "color": "#2a3f5f"
            },
            "marker": {
             "line": {
              "color": "#E5ECF6",
              "width": 0.5
             },
             "pattern": {
              "fillmode": "overlay",
              "size": 10,
              "solidity": 0.2
             }
            },
            "type": "bar"
           }
          ],
          "barpolar": [
           {
            "marker": {
             "line": {
              "color": "#E5ECF6",
              "width": 0.5
             },
             "pattern": {
              "fillmode": "overlay",
              "size": 10,
              "solidity": 0.2
             }
            },
            "type": "barpolar"
           }
          ],
          "carpet": [
           {
            "aaxis": {
             "endlinecolor": "#2a3f5f",
             "gridcolor": "white",
             "linecolor": "white",
             "minorgridcolor": "white",
             "startlinecolor": "#2a3f5f"
            },
            "baxis": {
             "endlinecolor": "#2a3f5f",
             "gridcolor": "white",
             "linecolor": "white",
             "minorgridcolor": "white",
             "startlinecolor": "#2a3f5f"
            },
            "type": "carpet"
           }
          ],
          "choropleth": [
           {
            "colorbar": {
             "outlinewidth": 0,
             "ticks": ""
            },
            "type": "choropleth"
           }
          ],
          "contour": [
           {
            "colorbar": {
             "outlinewidth": 0,
             "ticks": ""
            },
            "colorscale": [
             [
              0,
              "#0d0887"
             ],
             [
              0.1111111111111111,
              "#46039f"
             ],
             [
              0.2222222222222222,
              "#7201a8"
             ],
             [
              0.3333333333333333,
              "#9c179e"
             ],
             [
              0.4444444444444444,
              "#bd3786"
             ],
             [
              0.5555555555555556,
              "#d8576b"
             ],
             [
              0.6666666666666666,
              "#ed7953"
             ],
             [
              0.7777777777777778,
              "#fb9f3a"
             ],
             [
              0.8888888888888888,
              "#fdca26"
             ],
             [
              1,
              "#f0f921"
             ]
            ],
            "type": "contour"
           }
          ],
          "contourcarpet": [
           {
            "colorbar": {
             "outlinewidth": 0,
             "ticks": ""
            },
            "type": "contourcarpet"
           }
          ],
          "heatmap": [
           {
            "colorbar": {
             "outlinewidth": 0,
             "ticks": ""
            },
            "colorscale": [
             [
              0,
              "#0d0887"
             ],
             [
              0.1111111111111111,
              "#46039f"
             ],
             [
              0.2222222222222222,
              "#7201a8"
             ],
             [
              0.3333333333333333,
              "#9c179e"
             ],
             [
              0.4444444444444444,
              "#bd3786"
             ],
             [
              0.5555555555555556,
              "#d8576b"
             ],
             [
              0.6666666666666666,
              "#ed7953"
             ],
             [
              0.7777777777777778,
              "#fb9f3a"
             ],
             [
              0.8888888888888888,
              "#fdca26"
             ],
             [
              1,
              "#f0f921"
             ]
            ],
            "type": "heatmap"
           }
          ],
          "heatmapgl": [
           {
            "colorbar": {
             "outlinewidth": 0,
             "ticks": ""
            },
            "colorscale": [
             [
              0,
              "#0d0887"
             ],
             [
              0.1111111111111111,
              "#46039f"
             ],
             [
              0.2222222222222222,
              "#7201a8"
             ],
             [
              0.3333333333333333,
              "#9c179e"
             ],
             [
              0.4444444444444444,
              "#bd3786"
             ],
             [
              0.5555555555555556,
              "#d8576b"
             ],
             [
              0.6666666666666666,
              "#ed7953"
             ],
             [
              0.7777777777777778,
              "#fb9f3a"
             ],
             [
              0.8888888888888888,
              "#fdca26"
             ],
             [
              1,
              "#f0f921"
             ]
            ],
            "type": "heatmapgl"
           }
          ],
          "histogram": [
           {
            "marker": {
             "pattern": {
              "fillmode": "overlay",
              "size": 10,
              "solidity": 0.2
             }
            },
            "type": "histogram"
           }
          ],
          "histogram2d": [
           {
            "colorbar": {
             "outlinewidth": 0,
             "ticks": ""
            },
            "colorscale": [
             [
              0,
              "#0d0887"
             ],
             [
              0.1111111111111111,
              "#46039f"
             ],
             [
              0.2222222222222222,
              "#7201a8"
             ],
             [
              0.3333333333333333,
              "#9c179e"
             ],
             [
              0.4444444444444444,
              "#bd3786"
             ],
             [
              0.5555555555555556,
              "#d8576b"
             ],
             [
              0.6666666666666666,
              "#ed7953"
             ],
             [
              0.7777777777777778,
              "#fb9f3a"
             ],
             [
              0.8888888888888888,
              "#fdca26"
             ],
             [
              1,
              "#f0f921"
             ]
            ],
            "type": "histogram2d"
           }
          ],
          "histogram2dcontour": [
           {
            "colorbar": {
             "outlinewidth": 0,
             "ticks": ""
            },
            "colorscale": [
             [
              0,
              "#0d0887"
             ],
             [
              0.1111111111111111,
              "#46039f"
             ],
             [
              0.2222222222222222,
              "#7201a8"
             ],
             [
              0.3333333333333333,
              "#9c179e"
             ],
             [
              0.4444444444444444,
              "#bd3786"
             ],
             [
              0.5555555555555556,
              "#d8576b"
             ],
             [
              0.6666666666666666,
              "#ed7953"
             ],
             [
              0.7777777777777778,
              "#fb9f3a"
             ],
             [
              0.8888888888888888,
              "#fdca26"
             ],
             [
              1,
              "#f0f921"
             ]
            ],
            "type": "histogram2dcontour"
           }
          ],
          "mesh3d": [
           {
            "colorbar": {
             "outlinewidth": 0,
             "ticks": ""
            },
            "type": "mesh3d"
           }
          ],
          "parcoords": [
           {
            "line": {
             "colorbar": {
              "outlinewidth": 0,
              "ticks": ""
             }
            },
            "type": "parcoords"
           }
          ],
          "pie": [
           {
            "automargin": true,
            "type": "pie"
           }
          ],
          "scatter": [
           {
            "fillpattern": {
             "fillmode": "overlay",
             "size": 10,
             "solidity": 0.2
            },
            "type": "scatter"
           }
          ],
          "scatter3d": [
           {
            "line": {
             "colorbar": {
              "outlinewidth": 0,
              "ticks": ""
             }
            },
            "marker": {
             "colorbar": {
              "outlinewidth": 0,
              "ticks": ""
             }
            },
            "type": "scatter3d"
           }
          ],
          "scattercarpet": [
           {
            "marker": {
             "colorbar": {
              "outlinewidth": 0,
              "ticks": ""
             }
            },
            "type": "scattercarpet"
           }
          ],
          "scattergeo": [
           {
            "marker": {
             "colorbar": {
              "outlinewidth": 0,
              "ticks": ""
             }
            },
            "type": "scattergeo"
           }
          ],
          "scattergl": [
           {
            "marker": {
             "colorbar": {
              "outlinewidth": 0,
              "ticks": ""
             }
            },
            "type": "scattergl"
           }
          ],
          "scattermapbox": [
           {
            "marker": {
             "colorbar": {
              "outlinewidth": 0,
              "ticks": ""
             }
            },
            "type": "scattermapbox"
           }
          ],
          "scatterpolar": [
           {
            "marker": {
             "colorbar": {
              "outlinewidth": 0,
              "ticks": ""
             }
            },
            "type": "scatterpolar"
           }
          ],
          "scatterpolargl": [
           {
            "marker": {
             "colorbar": {
              "outlinewidth": 0,
              "ticks": ""
             }
            },
            "type": "scatterpolargl"
           }
          ],
          "scatterternary": [
           {
            "marker": {
             "colorbar": {
              "outlinewidth": 0,
              "ticks": ""
             }
            },
            "type": "scatterternary"
           }
          ],
          "surface": [
           {
            "colorbar": {
             "outlinewidth": 0,
             "ticks": ""
            },
            "colorscale": [
             [
              0,
              "#0d0887"
             ],
             [
              0.1111111111111111,
              "#46039f"
             ],
             [
              0.2222222222222222,
              "#7201a8"
             ],
             [
              0.3333333333333333,
              "#9c179e"
             ],
             [
              0.4444444444444444,
              "#bd3786"
             ],
             [
              0.5555555555555556,
              "#d8576b"
             ],
             [
              0.6666666666666666,
              "#ed7953"
             ],
             [
              0.7777777777777778,
              "#fb9f3a"
             ],
             [
              0.8888888888888888,
              "#fdca26"
             ],
             [
              1,
              "#f0f921"
             ]
            ],
            "type": "surface"
           }
          ],
          "table": [
           {
            "cells": {
             "fill": {
              "color": "#EBF0F8"
             },
             "line": {
              "color": "white"
             }
            },
            "header": {
             "fill": {
              "color": "#C8D4E3"
             },
             "line": {
              "color": "white"
             }
            },
            "type": "table"
           }
          ]
         },
         "layout": {
          "annotationdefaults": {
           "arrowcolor": "#2a3f5f",
           "arrowhead": 0,
           "arrowwidth": 1
          },
          "autotypenumbers": "strict",
          "coloraxis": {
           "colorbar": {
            "outlinewidth": 0,
            "ticks": ""
           }
          },
          "colorscale": {
           "diverging": [
            [
             0,
             "#8e0152"
            ],
            [
             0.1,
             "#c51b7d"
            ],
            [
             0.2,
             "#de77ae"
            ],
            [
             0.3,
             "#f1b6da"
            ],
            [
             0.4,
             "#fde0ef"
            ],
            [
             0.5,
             "#f7f7f7"
            ],
            [
             0.6,
             "#e6f5d0"
            ],
            [
             0.7,
             "#b8e186"
            ],
            [
             0.8,
             "#7fbc41"
            ],
            [
             0.9,
             "#4d9221"
            ],
            [
             1,
             "#276419"
            ]
           ],
           "sequential": [
            [
             0,
             "#0d0887"
            ],
            [
             0.1111111111111111,
             "#46039f"
            ],
            [
             0.2222222222222222,
             "#7201a8"
            ],
            [
             0.3333333333333333,
             "#9c179e"
            ],
            [
             0.4444444444444444,
             "#bd3786"
            ],
            [
             0.5555555555555556,
             "#d8576b"
            ],
            [
             0.6666666666666666,
             "#ed7953"
            ],
            [
             0.7777777777777778,
             "#fb9f3a"
            ],
            [
             0.8888888888888888,
             "#fdca26"
            ],
            [
             1,
             "#f0f921"
            ]
           ],
           "sequentialminus": [
            [
             0,
             "#0d0887"
            ],
            [
             0.1111111111111111,
             "#46039f"
            ],
            [
             0.2222222222222222,
             "#7201a8"
            ],
            [
             0.3333333333333333,
             "#9c179e"
            ],
            [
             0.4444444444444444,
             "#bd3786"
            ],
            [
             0.5555555555555556,
             "#d8576b"
            ],
            [
             0.6666666666666666,
             "#ed7953"
            ],
            [
             0.7777777777777778,
             "#fb9f3a"
            ],
            [
             0.8888888888888888,
             "#fdca26"
            ],
            [
             1,
             "#f0f921"
            ]
           ]
          },
          "colorway": [
           "#636efa",
           "#EF553B",
           "#00cc96",
           "#ab63fa",
           "#FFA15A",
           "#19d3f3",
           "#FF6692",
           "#B6E880",
           "#FF97FF",
           "#FECB52"
          ],
          "font": {
           "color": "#2a3f5f"
          },
          "geo": {
           "bgcolor": "white",
           "lakecolor": "white",
           "landcolor": "#E5ECF6",
           "showlakes": true,
           "showland": true,
           "subunitcolor": "white"
          },
          "hoverlabel": {
           "align": "left"
          },
          "hovermode": "closest",
          "mapbox": {
           "style": "light"
          },
          "paper_bgcolor": "white",
          "plot_bgcolor": "#E5ECF6",
          "polar": {
           "angularaxis": {
            "gridcolor": "white",
            "linecolor": "white",
            "ticks": ""
           },
           "bgcolor": "#E5ECF6",
           "radialaxis": {
            "gridcolor": "white",
            "linecolor": "white",
            "ticks": ""
           }
          },
          "scene": {
           "xaxis": {
            "backgroundcolor": "#E5ECF6",
            "gridcolor": "white",
            "gridwidth": 2,
            "linecolor": "white",
            "showbackground": true,
            "ticks": "",
            "zerolinecolor": "white"
           },
           "yaxis": {
            "backgroundcolor": "#E5ECF6",
            "gridcolor": "white",
            "gridwidth": 2,
            "linecolor": "white",
            "showbackground": true,
            "ticks": "",
            "zerolinecolor": "white"
           },
           "zaxis": {
            "backgroundcolor": "#E5ECF6",
            "gridcolor": "white",
            "gridwidth": 2,
            "linecolor": "white",
            "showbackground": true,
            "ticks": "",
            "zerolinecolor": "white"
           }
          },
          "shapedefaults": {
           "line": {
            "color": "#2a3f5f"
           }
          },
          "ternary": {
           "aaxis": {
            "gridcolor": "white",
            "linecolor": "white",
            "ticks": ""
           },
           "baxis": {
            "gridcolor": "white",
            "linecolor": "white",
            "ticks": ""
           },
           "bgcolor": "#E5ECF6",
           "caxis": {
            "gridcolor": "white",
            "linecolor": "white",
            "ticks": ""
           }
          },
          "title": {
           "x": 0.05
          },
          "xaxis": {
           "automargin": true,
           "gridcolor": "white",
           "linecolor": "white",
           "ticks": "",
           "title": {
            "standoff": 15
           },
           "zerolinecolor": "white",
           "zerolinewidth": 2
          },
          "yaxis": {
           "automargin": true,
           "gridcolor": "white",
           "linecolor": "white",
           "ticks": "",
           "title": {
            "standoff": 15
           },
           "zerolinecolor": "white",
           "zerolinewidth": 2
          }
         }
        },
        "title": {
         "text": "Weekly Prices for [25,24] by Category"
        },
        "xaxis": {
         "anchor": "y",
         "domain": [
          0,
          1
         ],
         "title": {
          "text": "date"
         }
        },
        "yaxis": {
         "anchor": "x",
         "domain": [
          0,
          1
         ],
         "title": {
          "text": "wPreis"
         }
        }
       }
      }
     },
     "metadata": {},
     "output_type": "display_data"
    }
   ],
   "source": [
    "fig = px.line(plz_24_25, x='date', y='wPreis', color='full', title='Weekly Prices for [25,24] by Category')\n",
    "fig.show()"
   ]
  },
  {
   "cell_type": "code",
   "execution_count": 27,
   "id": "c8ca3d7b",
   "metadata": {},
   "outputs": [
    {
     "data": {
      "text/plain": [
       "array(['A3 -  geschreddert', 'A2 & A3 -  geschreddert'], dtype=object)"
      ]
     },
     "execution_count": 27,
     "metadata": {},
     "output_type": "execute_result"
    }
   ],
   "source": [
    "plz_26_27_28 = df[df['Plz']==\"['26', '27', '28']\"]\n",
    "plz_26_27_28['full'].unique()"
   ]
  },
  {
   "cell_type": "code",
   "execution_count": 28,
   "id": "4ec25f41",
   "metadata": {},
   "outputs": [
    {
     "data": {
      "text/plain": [
       "dif\n",
       "7 days     148\n",
       "14 days      2\n",
       "0 days       1\n",
       "21 days      1\n",
       "Name: count, dtype: int64"
      ]
     },
     "execution_count": 28,
     "metadata": {},
     "output_type": "execute_result"
    }
   ],
   "source": [
    "plz_26_27_28_A3 = plz_26_27_28[plz_26_27_28['full']== 'A3 -  geschreddert']\n",
    "pd.options.mode.chained_assignment = None\n",
    "plz_26_27_28_A3['dif']= plz_26_27_28_A3.date.diff()\n",
    "pd.options.mode.chained_assignment = 'warn'\n",
    "plz_26_27_28_A3['dif'].value_counts()"
   ]
  },
  {
   "cell_type": "code",
   "execution_count": 29,
   "id": "2f070346",
   "metadata": {},
   "outputs": [
    {
     "data": {
      "text/plain": [
       "dif\n",
       "7 days     153\n",
       "0 days       1\n",
       "14 days      1\n",
       "Name: count, dtype: int64"
      ]
     },
     "execution_count": 29,
     "metadata": {},
     "output_type": "execute_result"
    }
   ],
   "source": [
    "plz_26_27_28_A2_A3 = plz_26_27_28[plz_26_27_28['full']== 'A2 & A3 -  geschreddert']\n",
    "pd.options.mode.chained_assignment = None\n",
    "plz_26_27_28_A2_A3['dif']= plz_26_27_28_A2_A3.date.diff()\n",
    "pd.options.mode.chained_assignment = 'warn'\n",
    "plz_26_27_28_A2_A3['dif'].value_counts()"
   ]
  },
  {
   "cell_type": "code",
   "execution_count": 43,
   "id": "c3c475e1",
   "metadata": {},
   "outputs": [
    {
     "data": {
      "application/vnd.plotly.v1+json": {
       "config": {
        "plotlyServerURL": "https://plot.ly"
       },
       "data": [
        {
         "hovertemplate": "full=A3 -  geschreddert<br>date=%{x}<br>wPreis=%{y}<extra></extra>",
         "legendgroup": "A3 -  geschreddert",
         "line": {
          "color": "#636efa",
          "dash": "solid"
         },
         "marker": {
          "symbol": "circle"
         },
         "mode": "lines",
         "name": "A3 -  geschreddert",
         "orientation": "v",
         "showlegend": true,
         "type": "scatter",
         "x": [
          "2020-09-14T00:00:00",
          "2020-09-21T00:00:00",
          "2020-09-28T00:00:00",
          "2020-10-05T00:00:00",
          "2020-10-12T00:00:00",
          "2020-10-19T00:00:00",
          "2020-10-26T00:00:00",
          "2020-11-02T00:00:00",
          "2020-11-09T00:00:00",
          "2020-11-16T00:00:00",
          "2020-11-23T00:00:00",
          "2020-11-30T00:00:00",
          "2020-12-07T00:00:00",
          "2020-12-14T00:00:00",
          "2020-12-21T00:00:00",
          "2020-12-28T00:00:00",
          "2021-01-04T00:00:00",
          "2021-01-04T00:00:00",
          "2021-01-11T00:00:00",
          "2021-01-18T00:00:00",
          "2021-01-25T00:00:00",
          "2021-02-01T00:00:00",
          "2021-02-08T00:00:00",
          "2021-02-15T00:00:00",
          "2021-02-22T00:00:00",
          "2021-03-01T00:00:00",
          "2021-03-08T00:00:00",
          "2021-03-15T00:00:00",
          "2021-03-22T00:00:00",
          "2021-03-29T00:00:00",
          "2021-04-05T00:00:00",
          "2021-04-12T00:00:00",
          "2021-04-19T00:00:00",
          "2021-04-26T00:00:00",
          "2021-05-03T00:00:00",
          "2021-05-17T00:00:00",
          "2021-05-24T00:00:00",
          "2021-05-31T00:00:00",
          "2021-06-07T00:00:00",
          "2021-06-14T00:00:00",
          "2021-06-21T00:00:00",
          "2021-06-28T00:00:00",
          "2021-07-05T00:00:00",
          "2021-07-12T00:00:00",
          "2021-07-19T00:00:00",
          "2021-07-26T00:00:00",
          "2021-08-02T00:00:00",
          "2021-08-09T00:00:00",
          "2021-08-16T00:00:00",
          "2021-08-23T00:00:00",
          "2021-08-30T00:00:00",
          "2021-09-06T00:00:00",
          "2021-09-13T00:00:00",
          "2021-09-20T00:00:00",
          "2021-09-27T00:00:00",
          "2021-10-04T00:00:00",
          "2021-10-11T00:00:00",
          "2021-10-18T00:00:00",
          "2021-10-25T00:00:00",
          "2021-11-01T00:00:00",
          "2021-11-08T00:00:00",
          "2021-11-15T00:00:00",
          "2021-11-22T00:00:00",
          "2021-11-29T00:00:00",
          "2021-12-06T00:00:00",
          "2021-12-13T00:00:00",
          "2021-12-20T00:00:00",
          "2021-12-27T00:00:00",
          "2022-01-03T00:00:00",
          "2022-01-10T00:00:00",
          "2022-01-17T00:00:00",
          "2022-01-24T00:00:00",
          "2022-01-31T00:00:00",
          "2022-02-07T00:00:00",
          "2022-02-14T00:00:00",
          "2022-02-21T00:00:00",
          "2022-02-28T00:00:00",
          "2022-03-07T00:00:00",
          "2022-03-14T00:00:00",
          "2022-03-21T00:00:00",
          "2022-03-28T00:00:00",
          "2022-04-04T00:00:00",
          "2022-04-11T00:00:00",
          "2022-04-18T00:00:00",
          "2022-04-25T00:00:00",
          "2022-05-02T00:00:00",
          "2022-05-09T00:00:00",
          "2022-05-16T00:00:00",
          "2022-05-23T00:00:00",
          "2022-05-30T00:00:00",
          "2022-06-06T00:00:00",
          "2022-06-13T00:00:00",
          "2022-06-20T00:00:00",
          "2022-06-27T00:00:00",
          "2022-07-04T00:00:00",
          "2022-07-11T00:00:00",
          "2022-07-18T00:00:00",
          "2022-07-25T00:00:00",
          "2022-08-01T00:00:00",
          "2022-08-08T00:00:00",
          "2022-08-15T00:00:00",
          "2022-08-22T00:00:00",
          "2022-08-29T00:00:00",
          "2022-09-05T00:00:00",
          "2022-09-12T00:00:00",
          "2022-09-19T00:00:00",
          "2022-09-26T00:00:00",
          "2022-10-03T00:00:00",
          "2022-10-10T00:00:00",
          "2022-10-17T00:00:00",
          "2022-10-24T00:00:00",
          "2022-10-31T00:00:00",
          "2022-11-07T00:00:00",
          "2022-11-14T00:00:00",
          "2022-11-21T00:00:00",
          "2022-11-28T00:00:00",
          "2022-12-05T00:00:00",
          "2022-12-12T00:00:00",
          "2022-12-19T00:00:00",
          "2022-12-26T00:00:00",
          "2023-01-02T00:00:00",
          "2023-01-09T00:00:00",
          "2023-01-16T00:00:00",
          "2023-01-23T00:00:00",
          "2023-01-30T00:00:00",
          "2023-02-06T00:00:00",
          "2023-02-13T00:00:00",
          "2023-02-20T00:00:00",
          "2023-02-27T00:00:00",
          "2023-03-06T00:00:00",
          "2023-03-13T00:00:00",
          "2023-03-20T00:00:00",
          "2023-03-27T00:00:00",
          "2023-04-03T00:00:00",
          "2023-04-10T00:00:00",
          "2023-04-17T00:00:00",
          "2023-04-24T00:00:00",
          "2023-05-01T00:00:00",
          "2023-05-08T00:00:00",
          "2023-05-15T00:00:00",
          "2023-05-22T00:00:00",
          "2023-05-29T00:00:00",
          "2023-06-05T00:00:00",
          "2023-06-12T00:00:00",
          "2023-06-19T00:00:00",
          "2023-06-26T00:00:00",
          "2023-07-03T00:00:00",
          "2023-07-10T00:00:00",
          "2023-07-17T00:00:00",
          "2023-07-31T00:00:00",
          "2023-08-07T00:00:00",
          "2023-08-28T00:00:00",
          "2023-09-04T00:00:00"
         ],
         "xaxis": "x",
         "y": [
          -28.31116237799469,
          -31.28105974360243,
          -32.25552971576227,
          -28.93986161750082,
          -30.47093076994177,
          -28.32251603924098,
          -26.75589359855503,
          -26.35126878405901,
          -26.77186684073107,
          -26.97335638696775,
          -25.49333196972796,
          -27.43580459064686,
          -32.22983626440266,
          -29.75092920353983,
          -28.01774276197797,
          -28.09847203592465,
          -22.69823333176713,
          -26.8892056333234,
          -23.86597797085585,
          -25.9318585166536,
          -23.4610440122825,
          -21.43108993369976,
          -20.86499428633618,
          -22.70045771144278,
          -26.13137934584892,
          -24.68568909549954,
          -24.50938288877399,
          -24.81568957023213,
          -29.0977945698972,
          -24.13444867406674,
          -27.54016606387857,
          -25.57165447956774,
          -25.84373747093257,
          -24.11711110153794,
          -24.08163093027182,
          -25.2257084402101,
          -26.01877606493894,
          -26.81700892639384,
          -28.29704649575983,
          -28.8632389139939,
          -26.0262751556951,
          -27.44453594076225,
          -27.34020273387934,
          -26.96258035822584,
          -33.5,
          -28.96380885453268,
          -23.5502290353304,
          -23.5,
          -25.84858774344855,
          -24.84490894906094,
          -25.43276026906135,
          -23.21295568731099,
          -22.23678765741143,
          -20.84248611437064,
          -16.8344039297185,
          -20.8596968601858,
          -17.03251080327935,
          -19.34666214075583,
          -16.71542980223224,
          -19.37171594633255,
          -21.64051380512136,
          -11.74574229908129,
          -5.928737226861611,
          -6.349767940021422,
          -7.907412226270067,
          -8.237713748998592,
          -13.28077314343845,
          20.90266222961731,
          23.20298914320628,
          21.63414428745204,
          20.13164600426501,
          20.80333632847599,
          22.1180755600688,
          20.89134030236848,
          22.82483922625251,
          28.08015084515401,
          31.3705207992139,
          34.14394572606709,
          33.56685056931565,
          28.9816441330307,
          35.46955772544515,
          33.17396931624472,
          3.935579726396052,
          35.17140766315157,
          41.37333401159833,
          38.66676063434177,
          40.89601163777429,
          39.56308878268462,
          34.29138249993098,
          38.57297667485799,
          36.08639002569716,
          40.13835833928712,
          38.58215721646446,
          37.59827751316753,
          41.74631687974399,
          35.78125189054023,
          38.87916489497407,
          34.94909974558028,
          35.48319772675127,
          42.32354083713703,
          38.17564996368919,
          51.92386768036233,
          57.43778478794252,
          60.03946757794371,
          57.64931201190033,
          71.66173975171922,
          70.72918149466192,
          68.45779015314517,
          78.27835928454977,
          75.02870203040288,
          67.70332818692602,
          71.00386397597092,
          63.61550305648755,
          70.432693635234,
          61.35942612248658,
          65.21035132729462,
          57.56837098692034,
          72.84968669584053,
          63.15696772191184,
          66.41105816208415,
          67.65185097455333,
          62.52016482553042,
          46.11834366375606,
          42.00496569935991,
          28.41748311614192,
          41.46925566343044,
          43.6238280774382,
          40.11011089367253,
          37.23299362655393,
          39.39068100358423,
          28.68218596630852,
          39.59719171634767,
          22.17070518794657,
          26.19237731295254,
          34.89543796978492,
          34.57607699358387,
          30.33893817026348,
          26.77714871611983,
          17.20891293147862,
          25.57845866932837,
          19.60445379928109,
          19.88944706732304,
          22.89907947911989,
          20.0589366671246,
          21.12740141557128,
          -0.2157478768838057,
          6.62784976217812,
          11.64275904166031,
          15,
          -15,
          -5.662500000000001,
          17.62608244413453,
          21.29289645746369
         ],
         "yaxis": "y"
        },
        {
         "hovertemplate": "full=A2 & A3 -  geschreddert<br>date=%{x}<br>wPreis=%{y}<extra></extra>",
         "legendgroup": "A2 & A3 -  geschreddert",
         "line": {
          "color": "#EF553B",
          "dash": "solid"
         },
         "marker": {
          "symbol": "circle"
         },
         "mode": "lines",
         "name": "A2 & A3 -  geschreddert",
         "orientation": "v",
         "showlegend": true,
         "type": "scatter",
         "x": [
          "2020-09-14T00:00:00",
          "2020-09-21T00:00:00",
          "2020-09-28T00:00:00",
          "2020-10-05T00:00:00",
          "2020-10-12T00:00:00",
          "2020-10-19T00:00:00",
          "2020-10-26T00:00:00",
          "2020-11-02T00:00:00",
          "2020-11-09T00:00:00",
          "2020-11-16T00:00:00",
          "2020-11-23T00:00:00",
          "2020-11-30T00:00:00",
          "2020-12-07T00:00:00",
          "2020-12-14T00:00:00",
          "2020-12-21T00:00:00",
          "2020-12-28T00:00:00",
          "2021-01-04T00:00:00",
          "2021-01-04T00:00:00",
          "2021-01-11T00:00:00",
          "2021-01-18T00:00:00",
          "2021-01-25T00:00:00",
          "2021-02-01T00:00:00",
          "2021-02-08T00:00:00",
          "2021-02-15T00:00:00",
          "2021-02-22T00:00:00",
          "2021-03-01T00:00:00",
          "2021-03-08T00:00:00",
          "2021-03-15T00:00:00",
          "2021-03-22T00:00:00",
          "2021-03-29T00:00:00",
          "2021-04-05T00:00:00",
          "2021-04-12T00:00:00",
          "2021-04-19T00:00:00",
          "2021-04-26T00:00:00",
          "2021-05-03T00:00:00",
          "2021-05-17T00:00:00",
          "2021-05-24T00:00:00",
          "2021-05-31T00:00:00",
          "2021-06-07T00:00:00",
          "2021-06-14T00:00:00",
          "2021-06-21T00:00:00",
          "2021-06-28T00:00:00",
          "2021-07-05T00:00:00",
          "2021-07-12T00:00:00",
          "2021-07-19T00:00:00",
          "2021-07-26T00:00:00",
          "2021-08-02T00:00:00",
          "2021-08-09T00:00:00",
          "2021-08-16T00:00:00",
          "2021-08-23T00:00:00",
          "2021-08-30T00:00:00",
          "2021-09-06T00:00:00",
          "2021-09-13T00:00:00",
          "2021-09-20T00:00:00",
          "2021-09-27T00:00:00",
          "2021-10-04T00:00:00",
          "2021-10-11T00:00:00",
          "2021-10-18T00:00:00",
          "2021-10-25T00:00:00",
          "2021-11-01T00:00:00",
          "2021-11-08T00:00:00",
          "2021-11-15T00:00:00",
          "2021-11-22T00:00:00",
          "2021-11-29T00:00:00",
          "2021-12-06T00:00:00",
          "2021-12-13T00:00:00",
          "2021-12-20T00:00:00",
          "2021-12-27T00:00:00",
          "2022-01-03T00:00:00",
          "2022-01-10T00:00:00",
          "2022-01-17T00:00:00",
          "2022-01-24T00:00:00",
          "2022-01-31T00:00:00",
          "2022-02-07T00:00:00",
          "2022-02-14T00:00:00",
          "2022-02-21T00:00:00",
          "2022-02-28T00:00:00",
          "2022-03-07T00:00:00",
          "2022-03-14T00:00:00",
          "2022-03-21T00:00:00",
          "2022-03-28T00:00:00",
          "2022-04-04T00:00:00",
          "2022-04-11T00:00:00",
          "2022-04-18T00:00:00",
          "2022-04-25T00:00:00",
          "2022-05-02T00:00:00",
          "2022-05-09T00:00:00",
          "2022-05-16T00:00:00",
          "2022-05-23T00:00:00",
          "2022-05-30T00:00:00",
          "2022-06-06T00:00:00",
          "2022-06-13T00:00:00",
          "2022-06-20T00:00:00",
          "2022-06-27T00:00:00",
          "2022-07-04T00:00:00",
          "2022-07-11T00:00:00",
          "2022-07-18T00:00:00",
          "2022-07-25T00:00:00",
          "2022-08-01T00:00:00",
          "2022-08-08T00:00:00",
          "2022-08-15T00:00:00",
          "2022-08-22T00:00:00",
          "2022-08-29T00:00:00",
          "2022-09-05T00:00:00",
          "2022-09-12T00:00:00",
          "2022-09-19T00:00:00",
          "2022-09-26T00:00:00",
          "2022-10-03T00:00:00",
          "2022-10-10T00:00:00",
          "2022-10-17T00:00:00",
          "2022-10-24T00:00:00",
          "2022-10-31T00:00:00",
          "2022-11-07T00:00:00",
          "2022-11-14T00:00:00",
          "2022-11-21T00:00:00",
          "2022-11-28T00:00:00",
          "2022-12-05T00:00:00",
          "2022-12-12T00:00:00",
          "2022-12-19T00:00:00",
          "2022-12-26T00:00:00",
          "2023-01-02T00:00:00",
          "2023-01-09T00:00:00",
          "2023-01-16T00:00:00",
          "2023-01-23T00:00:00",
          "2023-01-30T00:00:00",
          "2023-02-06T00:00:00",
          "2023-02-13T00:00:00",
          "2023-02-20T00:00:00",
          "2023-02-27T00:00:00",
          "2023-03-06T00:00:00",
          "2023-03-13T00:00:00",
          "2023-03-20T00:00:00",
          "2023-03-27T00:00:00",
          "2023-04-03T00:00:00",
          "2023-04-10T00:00:00",
          "2023-04-17T00:00:00",
          "2023-04-24T00:00:00",
          "2023-05-01T00:00:00",
          "2023-05-08T00:00:00",
          "2023-05-15T00:00:00",
          "2023-05-22T00:00:00",
          "2023-05-29T00:00:00",
          "2023-06-05T00:00:00",
          "2023-06-12T00:00:00",
          "2023-06-19T00:00:00",
          "2023-06-26T00:00:00",
          "2023-07-03T00:00:00",
          "2023-07-10T00:00:00",
          "2023-07-17T00:00:00",
          "2023-07-24T00:00:00",
          "2023-07-31T00:00:00",
          "2023-08-07T00:00:00",
          "2023-08-14T00:00:00",
          "2023-08-21T00:00:00",
          "2023-08-28T00:00:00",
          "2023-09-04T00:00:00"
         ],
         "xaxis": "x",
         "y": [
          -29.25756813992107,
          -31.28105974360243,
          -32.25552971576227,
          -28.93986161750082,
          -30.47093076994177,
          -28.53824423092716,
          -26.75589359855503,
          -27.17327521793275,
          -28.34306513798701,
          -27.97608595391421,
          -26.2927446266461,
          -27.73865459546185,
          -32.77326565143824,
          -30.30434347477983,
          -28.01774276197797,
          -27.23770427094024,
          -22.69823333176713,
          -26.8892056333234,
          -24.75074690567649,
          -25.62502042817453,
          -23.31963833421688,
          -21.43108993369976,
          -20.98546929554324,
          -23.75913986372628,
          -26.13137934584892,
          -24.60778992431771,
          -24.50938288877399,
          -24.75794391212244,
          -29.04190196521346,
          -23.91777482804392,
          -27.03063471643808,
          -25.38288233786938,
          -25.42273957769356,
          -24.53295565760747,
          -24.08163093027182,
          -25.49340388107128,
          -26.34737120798032,
          -26.82310642377757,
          -28.29704649575983,
          -28.8800818246247,
          -25.40070325254302,
          -27.64343071059387,
          -27.43753681638444,
          -25.29969710454919,
          -25.30155788128145,
          -25.52803462147065,
          -25.23152152123486,
          -26.42177050757758,
          -27.71702975442851,
          -25.34213227630208,
          -25.57182408477074,
          -24.54415744333557,
          -24.03530334728033,
          -22.64331033088142,
          -20.12042143246188,
          -20.8596968601858,
          -17.03251080327935,
          -18.40037410009353,
          -16.39897698209719,
          -19.37171594633255,
          -21.04921428446573,
          -10.16123398468256,
          -6.680075783135655,
          -8.070194450070895,
          -7.282621119386476,
          -8.237713748998592,
          -13.28077314343845,
          20.90266222961731,
          20.83893598363051,
          22.17070073734171,
          19.59429831395893,
          20.91642462288016,
          11.88336759352247,
          17.50449976132311,
          18.6021079395113,
          24.29427606920346,
          28.61975009262066,
          27.76644663856224,
          26.06615744733276,
          23.9865538791743,
          24.0038125,
          25.53396226415095,
          10.95430695233931,
          32.88646221748726,
          32.52438224808425,
          36.30683714083201,
          35.0280781713161,
          36.79280023137782,
          30.14983652601321,
          31.27367309469238,
          27.35233836925127,
          34.95802301541833,
          34.64132703015438,
          37.12656422967706,
          40.39176119735778,
          34.45703363197148,
          36.86479610785113,
          34.50591138315585,
          38.54842020599745,
          39.87249816112423,
          37.64481148237921,
          49.91125791003933,
          57.25329925098085,
          56.83577021201725,
          54.72473150809255,
          61.40276025024836,
          60.65342751705371,
          66.36100649090473,
          72.13965083408404,
          71.50796735328412,
          63.87695414687231,
          68.40327121047116,
          62.24068043824836,
          65.37613178010325,
          62.20142917111891,
          63.45901734252779,
          56.89349112426035,
          69.94161498465199,
          63.29200870228323,
          66.24717376707731,
          63.55681229494044,
          61.48680329728502,
          47.15791788369624,
          42.00496569935991,
          38.11305819082724,
          47.70694392202395,
          46.18094654938098,
          41.50388663967611,
          40.97125798144425,
          42.32784019975031,
          40.90097294415568,
          41.01088292246965,
          32.46900934514262,
          27.788687014162,
          34.07262715332812,
          32.09589885221316,
          30.03611384047853,
          26.7919869673675,
          18.1933191872428,
          25.98798645777555,
          20.46414200992195,
          20.38240250178374,
          23.34638085813246,
          21.41415855774309,
          21.4665726118418,
          3.198082415340677,
          10.28148345784419,
          5.2486434961138,
          3.231962570795371,
          -0.4755075572404845,
          -10.92462896285238,
          -0.779286378146846,
          0.6034432953954587,
          -1.843453237410072,
          12.93221027910758,
          10.45699224944718
         ],
         "yaxis": "y"
        }
       ],
       "layout": {
        "legend": {
         "title": {
          "text": "full"
         },
         "tracegroupgap": 0
        },
        "template": {
         "data": {
          "bar": [
           {
            "error_x": {
             "color": "#2a3f5f"
            },
            "error_y": {
             "color": "#2a3f5f"
            },
            "marker": {
             "line": {
              "color": "#E5ECF6",
              "width": 0.5
             },
             "pattern": {
              "fillmode": "overlay",
              "size": 10,
              "solidity": 0.2
             }
            },
            "type": "bar"
           }
          ],
          "barpolar": [
           {
            "marker": {
             "line": {
              "color": "#E5ECF6",
              "width": 0.5
             },
             "pattern": {
              "fillmode": "overlay",
              "size": 10,
              "solidity": 0.2
             }
            },
            "type": "barpolar"
           }
          ],
          "carpet": [
           {
            "aaxis": {
             "endlinecolor": "#2a3f5f",
             "gridcolor": "white",
             "linecolor": "white",
             "minorgridcolor": "white",
             "startlinecolor": "#2a3f5f"
            },
            "baxis": {
             "endlinecolor": "#2a3f5f",
             "gridcolor": "white",
             "linecolor": "white",
             "minorgridcolor": "white",
             "startlinecolor": "#2a3f5f"
            },
            "type": "carpet"
           }
          ],
          "choropleth": [
           {
            "colorbar": {
             "outlinewidth": 0,
             "ticks": ""
            },
            "type": "choropleth"
           }
          ],
          "contour": [
           {
            "colorbar": {
             "outlinewidth": 0,
             "ticks": ""
            },
            "colorscale": [
             [
              0,
              "#0d0887"
             ],
             [
              0.1111111111111111,
              "#46039f"
             ],
             [
              0.2222222222222222,
              "#7201a8"
             ],
             [
              0.3333333333333333,
              "#9c179e"
             ],
             [
              0.4444444444444444,
              "#bd3786"
             ],
             [
              0.5555555555555556,
              "#d8576b"
             ],
             [
              0.6666666666666666,
              "#ed7953"
             ],
             [
              0.7777777777777778,
              "#fb9f3a"
             ],
             [
              0.8888888888888888,
              "#fdca26"
             ],
             [
              1,
              "#f0f921"
             ]
            ],
            "type": "contour"
           }
          ],
          "contourcarpet": [
           {
            "colorbar": {
             "outlinewidth": 0,
             "ticks": ""
            },
            "type": "contourcarpet"
           }
          ],
          "heatmap": [
           {
            "colorbar": {
             "outlinewidth": 0,
             "ticks": ""
            },
            "colorscale": [
             [
              0,
              "#0d0887"
             ],
             [
              0.1111111111111111,
              "#46039f"
             ],
             [
              0.2222222222222222,
              "#7201a8"
             ],
             [
              0.3333333333333333,
              "#9c179e"
             ],
             [
              0.4444444444444444,
              "#bd3786"
             ],
             [
              0.5555555555555556,
              "#d8576b"
             ],
             [
              0.6666666666666666,
              "#ed7953"
             ],
             [
              0.7777777777777778,
              "#fb9f3a"
             ],
             [
              0.8888888888888888,
              "#fdca26"
             ],
             [
              1,
              "#f0f921"
             ]
            ],
            "type": "heatmap"
           }
          ],
          "heatmapgl": [
           {
            "colorbar": {
             "outlinewidth": 0,
             "ticks": ""
            },
            "colorscale": [
             [
              0,
              "#0d0887"
             ],
             [
              0.1111111111111111,
              "#46039f"
             ],
             [
              0.2222222222222222,
              "#7201a8"
             ],
             [
              0.3333333333333333,
              "#9c179e"
             ],
             [
              0.4444444444444444,
              "#bd3786"
             ],
             [
              0.5555555555555556,
              "#d8576b"
             ],
             [
              0.6666666666666666,
              "#ed7953"
             ],
             [
              0.7777777777777778,
              "#fb9f3a"
             ],
             [
              0.8888888888888888,
              "#fdca26"
             ],
             [
              1,
              "#f0f921"
             ]
            ],
            "type": "heatmapgl"
           }
          ],
          "histogram": [
           {
            "marker": {
             "pattern": {
              "fillmode": "overlay",
              "size": 10,
              "solidity": 0.2
             }
            },
            "type": "histogram"
           }
          ],
          "histogram2d": [
           {
            "colorbar": {
             "outlinewidth": 0,
             "ticks": ""
            },
            "colorscale": [
             [
              0,
              "#0d0887"
             ],
             [
              0.1111111111111111,
              "#46039f"
             ],
             [
              0.2222222222222222,
              "#7201a8"
             ],
             [
              0.3333333333333333,
              "#9c179e"
             ],
             [
              0.4444444444444444,
              "#bd3786"
             ],
             [
              0.5555555555555556,
              "#d8576b"
             ],
             [
              0.6666666666666666,
              "#ed7953"
             ],
             [
              0.7777777777777778,
              "#fb9f3a"
             ],
             [
              0.8888888888888888,
              "#fdca26"
             ],
             [
              1,
              "#f0f921"
             ]
            ],
            "type": "histogram2d"
           }
          ],
          "histogram2dcontour": [
           {
            "colorbar": {
             "outlinewidth": 0,
             "ticks": ""
            },
            "colorscale": [
             [
              0,
              "#0d0887"
             ],
             [
              0.1111111111111111,
              "#46039f"
             ],
             [
              0.2222222222222222,
              "#7201a8"
             ],
             [
              0.3333333333333333,
              "#9c179e"
             ],
             [
              0.4444444444444444,
              "#bd3786"
             ],
             [
              0.5555555555555556,
              "#d8576b"
             ],
             [
              0.6666666666666666,
              "#ed7953"
             ],
             [
              0.7777777777777778,
              "#fb9f3a"
             ],
             [
              0.8888888888888888,
              "#fdca26"
             ],
             [
              1,
              "#f0f921"
             ]
            ],
            "type": "histogram2dcontour"
           }
          ],
          "mesh3d": [
           {
            "colorbar": {
             "outlinewidth": 0,
             "ticks": ""
            },
            "type": "mesh3d"
           }
          ],
          "parcoords": [
           {
            "line": {
             "colorbar": {
              "outlinewidth": 0,
              "ticks": ""
             }
            },
            "type": "parcoords"
           }
          ],
          "pie": [
           {
            "automargin": true,
            "type": "pie"
           }
          ],
          "scatter": [
           {
            "fillpattern": {
             "fillmode": "overlay",
             "size": 10,
             "solidity": 0.2
            },
            "type": "scatter"
           }
          ],
          "scatter3d": [
           {
            "line": {
             "colorbar": {
              "outlinewidth": 0,
              "ticks": ""
             }
            },
            "marker": {
             "colorbar": {
              "outlinewidth": 0,
              "ticks": ""
             }
            },
            "type": "scatter3d"
           }
          ],
          "scattercarpet": [
           {
            "marker": {
             "colorbar": {
              "outlinewidth": 0,
              "ticks": ""
             }
            },
            "type": "scattercarpet"
           }
          ],
          "scattergeo": [
           {
            "marker": {
             "colorbar": {
              "outlinewidth": 0,
              "ticks": ""
             }
            },
            "type": "scattergeo"
           }
          ],
          "scattergl": [
           {
            "marker": {
             "colorbar": {
              "outlinewidth": 0,
              "ticks": ""
             }
            },
            "type": "scattergl"
           }
          ],
          "scattermapbox": [
           {
            "marker": {
             "colorbar": {
              "outlinewidth": 0,
              "ticks": ""
             }
            },
            "type": "scattermapbox"
           }
          ],
          "scatterpolar": [
           {
            "marker": {
             "colorbar": {
              "outlinewidth": 0,
              "ticks": ""
             }
            },
            "type": "scatterpolar"
           }
          ],
          "scatterpolargl": [
           {
            "marker": {
             "colorbar": {
              "outlinewidth": 0,
              "ticks": ""
             }
            },
            "type": "scatterpolargl"
           }
          ],
          "scatterternary": [
           {
            "marker": {
             "colorbar": {
              "outlinewidth": 0,
              "ticks": ""
             }
            },
            "type": "scatterternary"
           }
          ],
          "surface": [
           {
            "colorbar": {
             "outlinewidth": 0,
             "ticks": ""
            },
            "colorscale": [
             [
              0,
              "#0d0887"
             ],
             [
              0.1111111111111111,
              "#46039f"
             ],
             [
              0.2222222222222222,
              "#7201a8"
             ],
             [
              0.3333333333333333,
              "#9c179e"
             ],
             [
              0.4444444444444444,
              "#bd3786"
             ],
             [
              0.5555555555555556,
              "#d8576b"
             ],
             [
              0.6666666666666666,
              "#ed7953"
             ],
             [
              0.7777777777777778,
              "#fb9f3a"
             ],
             [
              0.8888888888888888,
              "#fdca26"
             ],
             [
              1,
              "#f0f921"
             ]
            ],
            "type": "surface"
           }
          ],
          "table": [
           {
            "cells": {
             "fill": {
              "color": "#EBF0F8"
             },
             "line": {
              "color": "white"
             }
            },
            "header": {
             "fill": {
              "color": "#C8D4E3"
             },
             "line": {
              "color": "white"
             }
            },
            "type": "table"
           }
          ]
         },
         "layout": {
          "annotationdefaults": {
           "arrowcolor": "#2a3f5f",
           "arrowhead": 0,
           "arrowwidth": 1
          },
          "autotypenumbers": "strict",
          "coloraxis": {
           "colorbar": {
            "outlinewidth": 0,
            "ticks": ""
           }
          },
          "colorscale": {
           "diverging": [
            [
             0,
             "#8e0152"
            ],
            [
             0.1,
             "#c51b7d"
            ],
            [
             0.2,
             "#de77ae"
            ],
            [
             0.3,
             "#f1b6da"
            ],
            [
             0.4,
             "#fde0ef"
            ],
            [
             0.5,
             "#f7f7f7"
            ],
            [
             0.6,
             "#e6f5d0"
            ],
            [
             0.7,
             "#b8e186"
            ],
            [
             0.8,
             "#7fbc41"
            ],
            [
             0.9,
             "#4d9221"
            ],
            [
             1,
             "#276419"
            ]
           ],
           "sequential": [
            [
             0,
             "#0d0887"
            ],
            [
             0.1111111111111111,
             "#46039f"
            ],
            [
             0.2222222222222222,
             "#7201a8"
            ],
            [
             0.3333333333333333,
             "#9c179e"
            ],
            [
             0.4444444444444444,
             "#bd3786"
            ],
            [
             0.5555555555555556,
             "#d8576b"
            ],
            [
             0.6666666666666666,
             "#ed7953"
            ],
            [
             0.7777777777777778,
             "#fb9f3a"
            ],
            [
             0.8888888888888888,
             "#fdca26"
            ],
            [
             1,
             "#f0f921"
            ]
           ],
           "sequentialminus": [
            [
             0,
             "#0d0887"
            ],
            [
             0.1111111111111111,
             "#46039f"
            ],
            [
             0.2222222222222222,
             "#7201a8"
            ],
            [
             0.3333333333333333,
             "#9c179e"
            ],
            [
             0.4444444444444444,
             "#bd3786"
            ],
            [
             0.5555555555555556,
             "#d8576b"
            ],
            [
             0.6666666666666666,
             "#ed7953"
            ],
            [
             0.7777777777777778,
             "#fb9f3a"
            ],
            [
             0.8888888888888888,
             "#fdca26"
            ],
            [
             1,
             "#f0f921"
            ]
           ]
          },
          "colorway": [
           "#636efa",
           "#EF553B",
           "#00cc96",
           "#ab63fa",
           "#FFA15A",
           "#19d3f3",
           "#FF6692",
           "#B6E880",
           "#FF97FF",
           "#FECB52"
          ],
          "font": {
           "color": "#2a3f5f"
          },
          "geo": {
           "bgcolor": "white",
           "lakecolor": "white",
           "landcolor": "#E5ECF6",
           "showlakes": true,
           "showland": true,
           "subunitcolor": "white"
          },
          "hoverlabel": {
           "align": "left"
          },
          "hovermode": "closest",
          "mapbox": {
           "style": "light"
          },
          "paper_bgcolor": "white",
          "plot_bgcolor": "#E5ECF6",
          "polar": {
           "angularaxis": {
            "gridcolor": "white",
            "linecolor": "white",
            "ticks": ""
           },
           "bgcolor": "#E5ECF6",
           "radialaxis": {
            "gridcolor": "white",
            "linecolor": "white",
            "ticks": ""
           }
          },
          "scene": {
           "xaxis": {
            "backgroundcolor": "#E5ECF6",
            "gridcolor": "white",
            "gridwidth": 2,
            "linecolor": "white",
            "showbackground": true,
            "ticks": "",
            "zerolinecolor": "white"
           },
           "yaxis": {
            "backgroundcolor": "#E5ECF6",
            "gridcolor": "white",
            "gridwidth": 2,
            "linecolor": "white",
            "showbackground": true,
            "ticks": "",
            "zerolinecolor": "white"
           },
           "zaxis": {
            "backgroundcolor": "#E5ECF6",
            "gridcolor": "white",
            "gridwidth": 2,
            "linecolor": "white",
            "showbackground": true,
            "ticks": "",
            "zerolinecolor": "white"
           }
          },
          "shapedefaults": {
           "line": {
            "color": "#2a3f5f"
           }
          },
          "ternary": {
           "aaxis": {
            "gridcolor": "white",
            "linecolor": "white",
            "ticks": ""
           },
           "baxis": {
            "gridcolor": "white",
            "linecolor": "white",
            "ticks": ""
           },
           "bgcolor": "#E5ECF6",
           "caxis": {
            "gridcolor": "white",
            "linecolor": "white",
            "ticks": ""
           }
          },
          "title": {
           "x": 0.05
          },
          "xaxis": {
           "automargin": true,
           "gridcolor": "white",
           "linecolor": "white",
           "ticks": "",
           "title": {
            "standoff": 15
           },
           "zerolinecolor": "white",
           "zerolinewidth": 2
          },
          "yaxis": {
           "automargin": true,
           "gridcolor": "white",
           "linecolor": "white",
           "ticks": "",
           "title": {
            "standoff": 15
           },
           "zerolinecolor": "white",
           "zerolinewidth": 2
          }
         }
        },
        "title": {
         "text": "Weekly Prices for [26,27,28] by Category"
        },
        "xaxis": {
         "anchor": "y",
         "domain": [
          0,
          1
         ],
         "title": {
          "text": "date"
         }
        },
        "yaxis": {
         "anchor": "x",
         "domain": [
          0,
          1
         ],
         "title": {
          "text": "wPreis"
         }
        }
       }
      }
     },
     "metadata": {},
     "output_type": "display_data"
    }
   ],
   "source": [
    "fig = px.line(plz_26_27_28, x='date', y='wPreis', color='full', title='Weekly Prices for [26,27,28] by Category')\n",
    "fig.show()"
   ]
  },
  {
   "cell_type": "code",
   "execution_count": 31,
   "id": "617b03b4",
   "metadata": {},
   "outputs": [
    {
     "data": {
      "text/plain": [
       "array(['A2 -  geschreddert', 'A1 & A2 -  geschreddert',\n",
       "       'A2 & A3 -  geschreddert'], dtype=object)"
      ]
     },
     "execution_count": 31,
     "metadata": {},
     "output_type": "execute_result"
    }
   ],
   "source": [
    "plz_20_21_22_23= df[df['Plz']==\"['20', '21', '22', '23']\"]\n",
    "plz_20_21_22_23['full'].unique()"
   ]
  },
  {
   "cell_type": "code",
   "execution_count": 32,
   "id": "a60ac11d",
   "metadata": {},
   "outputs": [
    {
     "data": {
      "text/plain": [
       "dif\n",
       "7 days    155\n",
       "Name: count, dtype: int64"
      ]
     },
     "execution_count": 32,
     "metadata": {},
     "output_type": "execute_result"
    }
   ],
   "source": [
    "plz_20_21_22_23_A2 = plz_20_21_22_23[plz_20_21_22_23['full']== 'A2 -  geschreddert']\n",
    "pd.options.mode.chained_assignment = None\n",
    "plz_20_21_22_23_A2['dif']= plz_20_21_22_23_A2.date.diff()\n",
    "pd.options.mode.chained_assignment = 'warn'\n",
    "plz_20_21_22_23_A2['dif'].value_counts()"
   ]
  },
  {
   "cell_type": "code",
   "execution_count": 33,
   "id": "6ea5f8e0",
   "metadata": {},
   "outputs": [
    {
     "data": {
      "text/plain": [
       "dif\n",
       "7 days    155\n",
       "Name: count, dtype: int64"
      ]
     },
     "execution_count": 33,
     "metadata": {},
     "output_type": "execute_result"
    }
   ],
   "source": [
    "plz_20_21_22_23_A1_A2 = plz_20_21_22_23[plz_20_21_22_23['full']== 'A1 & A2 -  geschreddert']\n",
    "pd.options.mode.chained_assignment = None\n",
    "plz_20_21_22_23_A1_A2['dif']= plz_20_21_22_23_A1_A2.date.diff()\n",
    "pd.options.mode.chained_assignment = 'warn'\n",
    "plz_20_21_22_23_A1_A2['dif'].value_counts()"
   ]
  },
  {
   "cell_type": "code",
   "execution_count": 34,
   "id": "373a64c5",
   "metadata": {},
   "outputs": [
    {
     "data": {
      "text/plain": [
       "dif\n",
       "7 days    155\n",
       "0 days      1\n",
       "Name: count, dtype: int64"
      ]
     },
     "execution_count": 34,
     "metadata": {},
     "output_type": "execute_result"
    }
   ],
   "source": [
    "plz_20_21_22_23_A2_A3 = plz_20_21_22_23[plz_20_21_22_23['full']== 'A2 & A3 -  geschreddert']\n",
    "pd.options.mode.chained_assignment = None\n",
    "plz_20_21_22_23_A2_A3['dif']= plz_20_21_22_23_A2_A3.date.diff()\n",
    "pd.options.mode.chained_assignment = 'warn'\n",
    "plz_20_21_22_23_A2_A3['dif'].value_counts()"
   ]
  },
  {
   "cell_type": "code",
   "execution_count": 44,
   "id": "b408515c",
   "metadata": {},
   "outputs": [
    {
     "data": {
      "application/vnd.plotly.v1+json": {
       "config": {
        "plotlyServerURL": "https://plot.ly"
       },
       "data": [
        {
         "hovertemplate": "full=A2 -  geschreddert<br>date=%{x}<br>wPreis=%{y}<extra></extra>",
         "legendgroup": "A2 -  geschreddert",
         "line": {
          "color": "#636efa",
          "dash": "solid"
         },
         "marker": {
          "symbol": "circle"
         },
         "mode": "lines",
         "name": "A2 -  geschreddert",
         "orientation": "v",
         "showlegend": true,
         "type": "scatter",
         "x": [
          "2020-09-14T00:00:00",
          "2020-09-21T00:00:00",
          "2020-09-28T00:00:00",
          "2020-10-05T00:00:00",
          "2020-10-12T00:00:00",
          "2020-10-19T00:00:00",
          "2020-10-26T00:00:00",
          "2020-11-02T00:00:00",
          "2020-11-09T00:00:00",
          "2020-11-16T00:00:00",
          "2020-11-23T00:00:00",
          "2020-11-30T00:00:00",
          "2020-12-07T00:00:00",
          "2020-12-14T00:00:00",
          "2020-12-21T00:00:00",
          "2020-12-28T00:00:00",
          "2021-01-04T00:00:00",
          "2021-01-11T00:00:00",
          "2021-01-18T00:00:00",
          "2021-01-25T00:00:00",
          "2021-02-01T00:00:00",
          "2021-02-08T00:00:00",
          "2021-02-15T00:00:00",
          "2021-02-22T00:00:00",
          "2021-03-01T00:00:00",
          "2021-03-08T00:00:00",
          "2021-03-15T00:00:00",
          "2021-03-22T00:00:00",
          "2021-03-29T00:00:00",
          "2021-04-05T00:00:00",
          "2021-04-12T00:00:00",
          "2021-04-19T00:00:00",
          "2021-04-26T00:00:00",
          "2021-05-03T00:00:00",
          "2021-05-10T00:00:00",
          "2021-05-17T00:00:00",
          "2021-05-24T00:00:00",
          "2021-05-31T00:00:00",
          "2021-06-07T00:00:00",
          "2021-06-14T00:00:00",
          "2021-06-21T00:00:00",
          "2021-06-28T00:00:00",
          "2021-07-05T00:00:00",
          "2021-07-12T00:00:00",
          "2021-07-19T00:00:00",
          "2021-07-26T00:00:00",
          "2021-08-02T00:00:00",
          "2021-08-09T00:00:00",
          "2021-08-16T00:00:00",
          "2021-08-23T00:00:00",
          "2021-08-30T00:00:00",
          "2021-09-06T00:00:00",
          "2021-09-13T00:00:00",
          "2021-09-20T00:00:00",
          "2021-09-27T00:00:00",
          "2021-10-04T00:00:00",
          "2021-10-11T00:00:00",
          "2021-10-18T00:00:00",
          "2021-10-25T00:00:00",
          "2021-11-01T00:00:00",
          "2021-11-08T00:00:00",
          "2021-11-15T00:00:00",
          "2021-11-22T00:00:00",
          "2021-11-29T00:00:00",
          "2021-12-06T00:00:00",
          "2021-12-13T00:00:00",
          "2021-12-20T00:00:00",
          "2021-12-27T00:00:00",
          "2022-01-03T00:00:00",
          "2022-01-10T00:00:00",
          "2022-01-17T00:00:00",
          "2022-01-24T00:00:00",
          "2022-01-31T00:00:00",
          "2022-02-07T00:00:00",
          "2022-02-14T00:00:00",
          "2022-02-21T00:00:00",
          "2022-02-28T00:00:00",
          "2022-03-07T00:00:00",
          "2022-03-14T00:00:00",
          "2022-03-21T00:00:00",
          "2022-03-28T00:00:00",
          "2022-04-04T00:00:00",
          "2022-04-11T00:00:00",
          "2022-04-18T00:00:00",
          "2022-04-25T00:00:00",
          "2022-05-02T00:00:00",
          "2022-05-09T00:00:00",
          "2022-05-16T00:00:00",
          "2022-05-23T00:00:00",
          "2022-05-30T00:00:00",
          "2022-06-06T00:00:00",
          "2022-06-13T00:00:00",
          "2022-06-20T00:00:00",
          "2022-06-27T00:00:00",
          "2022-07-04T00:00:00",
          "2022-07-11T00:00:00",
          "2022-07-18T00:00:00",
          "2022-07-25T00:00:00",
          "2022-08-01T00:00:00",
          "2022-08-08T00:00:00",
          "2022-08-15T00:00:00",
          "2022-08-22T00:00:00",
          "2022-08-29T00:00:00",
          "2022-09-05T00:00:00",
          "2022-09-12T00:00:00",
          "2022-09-19T00:00:00",
          "2022-09-26T00:00:00",
          "2022-10-03T00:00:00",
          "2022-10-10T00:00:00",
          "2022-10-17T00:00:00",
          "2022-10-24T00:00:00",
          "2022-10-31T00:00:00",
          "2022-11-07T00:00:00",
          "2022-11-14T00:00:00",
          "2022-11-21T00:00:00",
          "2022-11-28T00:00:00",
          "2022-12-05T00:00:00",
          "2022-12-12T00:00:00",
          "2022-12-19T00:00:00",
          "2022-12-26T00:00:00",
          "2023-01-02T00:00:00",
          "2023-01-09T00:00:00",
          "2023-01-16T00:00:00",
          "2023-01-23T00:00:00",
          "2023-01-30T00:00:00",
          "2023-02-06T00:00:00",
          "2023-02-13T00:00:00",
          "2023-02-20T00:00:00",
          "2023-02-27T00:00:00",
          "2023-03-06T00:00:00",
          "2023-03-13T00:00:00",
          "2023-03-20T00:00:00",
          "2023-03-27T00:00:00",
          "2023-04-03T00:00:00",
          "2023-04-10T00:00:00",
          "2023-04-17T00:00:00",
          "2023-04-24T00:00:00",
          "2023-05-01T00:00:00",
          "2023-05-08T00:00:00",
          "2023-05-15T00:00:00",
          "2023-05-22T00:00:00",
          "2023-05-29T00:00:00",
          "2023-06-05T00:00:00",
          "2023-06-12T00:00:00",
          "2023-06-19T00:00:00",
          "2023-06-26T00:00:00",
          "2023-07-03T00:00:00",
          "2023-07-10T00:00:00",
          "2023-07-17T00:00:00",
          "2023-07-24T00:00:00",
          "2023-07-31T00:00:00",
          "2023-08-07T00:00:00",
          "2023-08-14T00:00:00",
          "2023-08-21T00:00:00",
          "2023-08-28T00:00:00",
          "2023-09-04T00:00:00"
         ],
         "xaxis": "x",
         "y": [
          -33.57518255629882,
          -30.46965479986297,
          -31.28952184409313,
          -30.6163543591804,
          -32.23183451506306,
          -31.52603993649242,
          -29.01266889880952,
          -31.38598295602394,
          -29.39450785243164,
          -30.64709305472853,
          -28.05212979482604,
          -31.03953869422737,
          -26.36146205640405,
          -29.61098509482137,
          -35.42168040128987,
          -26.80745144920465,
          -29.57246562389189,
          -29.66786974655118,
          -30.9171758715237,
          -26.07434113644442,
          -26.47266437346437,
          -24.55756356664676,
          -25.24986485025408,
          -27.09052173387341,
          -29.32212439234928,
          -28.91943695877496,
          -29.19132796780683,
          -29.55302375573054,
          -22.27034784391444,
          -30.95392423775793,
          -30.64100418875854,
          -26.06268509557222,
          -29.12107104316546,
          -28.02081399128794,
          -26.64327841689154,
          -29.50822032409644,
          -28.9307923404576,
          -29.42470546502605,
          -28.37620202853854,
          -27.61951251785264,
          -29.94742253632552,
          -28.36134051684778,
          -27.43324035030815,
          -27.87248814452929,
          -29.70545738804155,
          -25.08236569969247,
          -26.52074723228962,
          -26.8148952755157,
          -28.55315529661625,
          -25.77930402636021,
          -23.22351461206009,
          -23.06964669769682,
          -22.63561036664342,
          -21.79410495049505,
          -21.77386513514867,
          -20.36248307676879,
          -21.41795147025474,
          -18.10945160704557,
          -13.40657415170645,
          -9.086712250276939,
          -13.43017826514831,
          -10.8002556588131,
          -9.854462424990793,
          -8.25553379897718,
          -6.216619462743087,
          -6.661612881401798,
          1.090852040631891,
          2.396631384408602,
          -0.829544362015876,
          1.161769357299987,
          4.203023319137813,
          10.75153447347159,
          10.40401846483983,
          13.48041571753986,
          11.36477600868943,
          21.0333480513047,
          20.91898847155077,
          14.64458997160891,
          20.45681199689454,
          20.57800930910536,
          19.73061327058609,
          18.77400532808247,
          18.65886177673875,
          17.42079691126391,
          18.99515104790115,
          15.51979768047821,
          21.07379082735859,
          19.01720654704835,
          19.87128800052832,
          23.34650763610756,
          18.62622487714446,
          17.68616019918625,
          22.71748994612641,
          23.77399742654942,
          27.34349768319414,
          27.70348264957802,
          27.89202918888576,
          31.51904905725505,
          33.01946193474527,
          32.96153173631754,
          29.53784005721703,
          41.21870253851161,
          43.45084913579716,
          49.11426298064467,
          51.84268798008419,
          47.60171489817791,
          56.44178496753604,
          56.52392306469559,
          57.35134226307235,
          56.05564916222036,
          55.5493264659271,
          51.72070128864554,
          57.4705691912345,
          52.09090909090911,
          61.39075952948782,
          50.03840637450199,
          56.34602698650675,
          58.87783506248276,
          69.09736871322308,
          59.80761766930894,
          58.10236718965044,
          56.07309535168323,
          52.24118559734632,
          59.18494448957487,
          53.90299332360613,
          45.68342277646936,
          57.09661491194382,
          50.20843715521837,
          49.87655364843156,
          41.98558096980788,
          41.6434602517126,
          43.57377124272823,
          37.68603276473569,
          33.29617879634453,
          33.02580357142856,
          33.27064426852031,
          28.0217539248586,
          26.21015421668026,
          27.07569948423023,
          27.68665921443164,
          27.08571758191047,
          26.05294437891298,
          26.01318426533581,
          26.80081461043227,
          24.56312246403541,
          20.61005806946423,
          20.85144258220535,
          20.75073065167436,
          14.55452831056529,
          4.312557680338248,
          14.86630082314792,
          12.59895039183008,
          14.92368479111094,
          13.23178612818951,
          8.610267898567054,
          9.945223230062437
         ],
         "yaxis": "y"
        },
        {
         "hovertemplate": "full=A1 & A2 -  geschreddert<br>date=%{x}<br>wPreis=%{y}<extra></extra>",
         "legendgroup": "A1 & A2 -  geschreddert",
         "line": {
          "color": "#EF553B",
          "dash": "solid"
         },
         "marker": {
          "symbol": "circle"
         },
         "mode": "lines",
         "name": "A1 & A2 -  geschreddert",
         "orientation": "v",
         "showlegend": true,
         "type": "scatter",
         "x": [
          "2020-09-14T00:00:00",
          "2020-09-21T00:00:00",
          "2020-09-28T00:00:00",
          "2020-10-05T00:00:00",
          "2020-10-12T00:00:00",
          "2020-10-19T00:00:00",
          "2020-10-26T00:00:00",
          "2020-11-02T00:00:00",
          "2020-11-09T00:00:00",
          "2020-11-16T00:00:00",
          "2020-11-23T00:00:00",
          "2020-11-30T00:00:00",
          "2020-12-07T00:00:00",
          "2020-12-14T00:00:00",
          "2020-12-21T00:00:00",
          "2020-12-28T00:00:00",
          "2021-01-04T00:00:00",
          "2021-01-11T00:00:00",
          "2021-01-18T00:00:00",
          "2021-01-25T00:00:00",
          "2021-02-01T00:00:00",
          "2021-02-08T00:00:00",
          "2021-02-15T00:00:00",
          "2021-02-22T00:00:00",
          "2021-03-01T00:00:00",
          "2021-03-08T00:00:00",
          "2021-03-15T00:00:00",
          "2021-03-22T00:00:00",
          "2021-03-29T00:00:00",
          "2021-04-05T00:00:00",
          "2021-04-12T00:00:00",
          "2021-04-19T00:00:00",
          "2021-04-26T00:00:00",
          "2021-05-03T00:00:00",
          "2021-05-10T00:00:00",
          "2021-05-17T00:00:00",
          "2021-05-24T00:00:00",
          "2021-05-31T00:00:00",
          "2021-06-07T00:00:00",
          "2021-06-14T00:00:00",
          "2021-06-21T00:00:00",
          "2021-06-28T00:00:00",
          "2021-07-05T00:00:00",
          "2021-07-12T00:00:00",
          "2021-07-19T00:00:00",
          "2021-07-26T00:00:00",
          "2021-08-02T00:00:00",
          "2021-08-09T00:00:00",
          "2021-08-16T00:00:00",
          "2021-08-23T00:00:00",
          "2021-08-30T00:00:00",
          "2021-09-06T00:00:00",
          "2021-09-13T00:00:00",
          "2021-09-20T00:00:00",
          "2021-09-27T00:00:00",
          "2021-10-04T00:00:00",
          "2021-10-11T00:00:00",
          "2021-10-18T00:00:00",
          "2021-10-25T00:00:00",
          "2021-11-01T00:00:00",
          "2021-11-08T00:00:00",
          "2021-11-15T00:00:00",
          "2021-11-22T00:00:00",
          "2021-11-29T00:00:00",
          "2021-12-06T00:00:00",
          "2021-12-13T00:00:00",
          "2021-12-20T00:00:00",
          "2021-12-27T00:00:00",
          "2022-01-03T00:00:00",
          "2022-01-10T00:00:00",
          "2022-01-17T00:00:00",
          "2022-01-24T00:00:00",
          "2022-01-31T00:00:00",
          "2022-02-07T00:00:00",
          "2022-02-14T00:00:00",
          "2022-02-21T00:00:00",
          "2022-02-28T00:00:00",
          "2022-03-07T00:00:00",
          "2022-03-14T00:00:00",
          "2022-03-21T00:00:00",
          "2022-03-28T00:00:00",
          "2022-04-04T00:00:00",
          "2022-04-11T00:00:00",
          "2022-04-18T00:00:00",
          "2022-04-25T00:00:00",
          "2022-05-02T00:00:00",
          "2022-05-09T00:00:00",
          "2022-05-16T00:00:00",
          "2022-05-23T00:00:00",
          "2022-05-30T00:00:00",
          "2022-06-06T00:00:00",
          "2022-06-13T00:00:00",
          "2022-06-20T00:00:00",
          "2022-06-27T00:00:00",
          "2022-07-04T00:00:00",
          "2022-07-11T00:00:00",
          "2022-07-18T00:00:00",
          "2022-07-25T00:00:00",
          "2022-08-01T00:00:00",
          "2022-08-08T00:00:00",
          "2022-08-15T00:00:00",
          "2022-08-22T00:00:00",
          "2022-08-29T00:00:00",
          "2022-09-05T00:00:00",
          "2022-09-12T00:00:00",
          "2022-09-19T00:00:00",
          "2022-09-26T00:00:00",
          "2022-10-03T00:00:00",
          "2022-10-10T00:00:00",
          "2022-10-17T00:00:00",
          "2022-10-24T00:00:00",
          "2022-10-31T00:00:00",
          "2022-11-07T00:00:00",
          "2022-11-14T00:00:00",
          "2022-11-21T00:00:00",
          "2022-11-28T00:00:00",
          "2022-12-05T00:00:00",
          "2022-12-12T00:00:00",
          "2022-12-19T00:00:00",
          "2022-12-26T00:00:00",
          "2023-01-02T00:00:00",
          "2023-01-09T00:00:00",
          "2023-01-16T00:00:00",
          "2023-01-23T00:00:00",
          "2023-01-30T00:00:00",
          "2023-02-06T00:00:00",
          "2023-02-13T00:00:00",
          "2023-02-20T00:00:00",
          "2023-02-27T00:00:00",
          "2023-03-06T00:00:00",
          "2023-03-13T00:00:00",
          "2023-03-20T00:00:00",
          "2023-03-27T00:00:00",
          "2023-04-03T00:00:00",
          "2023-04-10T00:00:00",
          "2023-04-17T00:00:00",
          "2023-04-24T00:00:00",
          "2023-05-01T00:00:00",
          "2023-05-08T00:00:00",
          "2023-05-15T00:00:00",
          "2023-05-22T00:00:00",
          "2023-05-29T00:00:00",
          "2023-06-05T00:00:00",
          "2023-06-12T00:00:00",
          "2023-06-19T00:00:00",
          "2023-06-26T00:00:00",
          "2023-07-03T00:00:00",
          "2023-07-10T00:00:00",
          "2023-07-17T00:00:00",
          "2023-07-24T00:00:00",
          "2023-07-31T00:00:00",
          "2023-08-07T00:00:00",
          "2023-08-14T00:00:00",
          "2023-08-21T00:00:00",
          "2023-08-28T00:00:00",
          "2023-09-04T00:00:00"
         ],
         "xaxis": "x",
         "y": [
          -33.57518255629882,
          -30.46965479986297,
          -31.28952184409313,
          -30.6163543591804,
          -31.29194836008374,
          -28.94600578731614,
          -29.01266889880952,
          -24.50884117228098,
          -27.37441759288663,
          -29.53032774153464,
          -22.18705752870486,
          -22.91865741238926,
          -24.62229596723814,
          -25.35018313686466,
          -26.90648313458262,
          -20.20441982755288,
          -25.05287177203918,
          -18.27369157872065,
          -19.60595448934686,
          -26.07434113644442,
          -24.57374418962598,
          -18.90890832358773,
          -25.24986485025408,
          -25.34583352389664,
          -29.32212439234928,
          -24.70737147156352,
          -27.72060931549654,
          -29.65243826595939,
          -21.71598477640342,
          -29.63051843317972,
          -28.79331090432417,
          -25.20793571594338,
          -28.85619257278059,
          -26.44136029007801,
          -26.58441624911292,
          -25.61704364579207,
          -28.55616891869678,
          -24.69128806540288,
          -28.37620202853854,
          -25.57572284928389,
          -29.93485899133214,
          -26.90572277173765,
          -26.21583986778073,
          -20.12350838603245,
          -26.16194097828799,
          -20.59869272443451,
          -23.60902160626977,
          -22.54736281826163,
          -17.16997375672484,
          -22.20635282425046,
          -21.55441385764768,
          -20.87905463942442,
          -21.09517110400301,
          -21.23498800319915,
          -19.49816226455447,
          -19.63771127961162,
          -19.33471991087282,
          -18.10945160704557,
          -12.75361225359739,
          -9.704216266140918,
          -13.43017826514831,
          -11.17762208625802,
          -8.576440643225821,
          -6.387991105325957,
          -2.122826100225844,
          -5.768283956816469,
          1.207520516237637,
          3.351577511932065,
          -1.206954698963549,
          4.413219426646526,
          4.97459406416855,
          11.69724481133456,
          12.2700616281522,
          13.62577349332157,
          12.47903988657636,
          20.4820784560269,
          20.9827155416903,
          16.36036047181281,
          21.55919080240663,
          22.36539329222439,
          20.00369966224993,
          19.10307361647701,
          19.29859683934519,
          17.89853343762221,
          18.88127034191189,
          20.28964470088066,
          23.2557382413088,
          20.64280245999949,
          19.87128800052832,
          23.34650763610756,
          18.22200057744298,
          17.68616019918625,
          22.82923203486946,
          23.88146220152163,
          27.47213201320133,
          27.84602541690401,
          27.89202918888576,
          31.05807597131154,
          32.88958159432387,
          32.96153173631754,
          29.53784005721703,
          41.6781565172986,
          42.72885772786499,
          49.56939751240203,
          57.17786984010939,
          55.66313758389261,
          63.51750827814568,
          64.03399366763648,
          62.21789928190445,
          60.26844094299254,
          58.52266125093188,
          55.28594055109568,
          58.8193841224635,
          56.98428908091124,
          68.27596983082422,
          68.83858673721022,
          79.15683981960917,
          75.95110158447916,
          86.53185227380614,
          72.35927073672781,
          73.86288966278774,
          70.85825157215396,
          71.07200725905763,
          66.02228448137056,
          64.54184947114241,
          50.0046079674007,
          68.42003177300771,
          50.98264463794357,
          50.64017570260707,
          40.99067884380003,
          47.15256897406246,
          46.59275695702625,
          42.1393325756793,
          40.07898165035173,
          43.06424716598611,
          40.59211014203034,
          33.19207735620062,
          31.06393123363105,
          32.44586713016608,
          35.73835442664544,
          30.57146307798482,
          30.25871457530108,
          26.9470878238936,
          26.80081461043227,
          24.56312246403541,
          20.61005806946423,
          22.32211768457981,
          20.75073065167436,
          14.55452831056529,
          9.4684207451263,
          18.27968641918376,
          13.61826424425593,
          18.68707972681146,
          13.23178612818951,
          13.56892332329623,
          10.46545160918214
         ],
         "yaxis": "y"
        },
        {
         "hovertemplate": "full=A2 & A3 -  geschreddert<br>date=%{x}<br>wPreis=%{y}<extra></extra>",
         "legendgroup": "A2 & A3 -  geschreddert",
         "line": {
          "color": "#00cc96",
          "dash": "solid"
         },
         "marker": {
          "symbol": "circle"
         },
         "mode": "lines",
         "name": "A2 & A3 -  geschreddert",
         "orientation": "v",
         "showlegend": true,
         "type": "scatter",
         "x": [
          "2020-09-14T00:00:00",
          "2020-09-21T00:00:00",
          "2020-09-28T00:00:00",
          "2020-10-05T00:00:00",
          "2020-10-12T00:00:00",
          "2020-10-19T00:00:00",
          "2020-10-26T00:00:00",
          "2020-11-02T00:00:00",
          "2020-11-09T00:00:00",
          "2020-11-16T00:00:00",
          "2020-11-23T00:00:00",
          "2020-11-30T00:00:00",
          "2020-12-07T00:00:00",
          "2020-12-14T00:00:00",
          "2020-12-21T00:00:00",
          "2020-12-28T00:00:00",
          "2021-01-04T00:00:00",
          "2021-01-04T00:00:00",
          "2021-01-11T00:00:00",
          "2021-01-18T00:00:00",
          "2021-01-25T00:00:00",
          "2021-02-01T00:00:00",
          "2021-02-08T00:00:00",
          "2021-02-15T00:00:00",
          "2021-02-22T00:00:00",
          "2021-03-01T00:00:00",
          "2021-03-08T00:00:00",
          "2021-03-15T00:00:00",
          "2021-03-22T00:00:00",
          "2021-03-29T00:00:00",
          "2021-04-05T00:00:00",
          "2021-04-12T00:00:00",
          "2021-04-19T00:00:00",
          "2021-04-26T00:00:00",
          "2021-05-03T00:00:00",
          "2021-05-10T00:00:00",
          "2021-05-17T00:00:00",
          "2021-05-24T00:00:00",
          "2021-05-31T00:00:00",
          "2021-06-07T00:00:00",
          "2021-06-14T00:00:00",
          "2021-06-21T00:00:00",
          "2021-06-28T00:00:00",
          "2021-07-05T00:00:00",
          "2021-07-12T00:00:00",
          "2021-07-19T00:00:00",
          "2021-07-26T00:00:00",
          "2021-08-02T00:00:00",
          "2021-08-09T00:00:00",
          "2021-08-16T00:00:00",
          "2021-08-23T00:00:00",
          "2021-08-30T00:00:00",
          "2021-09-06T00:00:00",
          "2021-09-13T00:00:00",
          "2021-09-20T00:00:00",
          "2021-09-27T00:00:00",
          "2021-10-04T00:00:00",
          "2021-10-11T00:00:00",
          "2021-10-18T00:00:00",
          "2021-10-25T00:00:00",
          "2021-11-01T00:00:00",
          "2021-11-08T00:00:00",
          "2021-11-15T00:00:00",
          "2021-11-22T00:00:00",
          "2021-11-29T00:00:00",
          "2021-12-06T00:00:00",
          "2021-12-13T00:00:00",
          "2021-12-20T00:00:00",
          "2021-12-27T00:00:00",
          "2022-01-03T00:00:00",
          "2022-01-10T00:00:00",
          "2022-01-17T00:00:00",
          "2022-01-24T00:00:00",
          "2022-01-31T00:00:00",
          "2022-02-07T00:00:00",
          "2022-02-14T00:00:00",
          "2022-02-21T00:00:00",
          "2022-02-28T00:00:00",
          "2022-03-07T00:00:00",
          "2022-03-14T00:00:00",
          "2022-03-21T00:00:00",
          "2022-03-28T00:00:00",
          "2022-04-04T00:00:00",
          "2022-04-11T00:00:00",
          "2022-04-18T00:00:00",
          "2022-04-25T00:00:00",
          "2022-05-02T00:00:00",
          "2022-05-09T00:00:00",
          "2022-05-16T00:00:00",
          "2022-05-23T00:00:00",
          "2022-05-30T00:00:00",
          "2022-06-06T00:00:00",
          "2022-06-13T00:00:00",
          "2022-06-20T00:00:00",
          "2022-06-27T00:00:00",
          "2022-07-04T00:00:00",
          "2022-07-11T00:00:00",
          "2022-07-18T00:00:00",
          "2022-07-25T00:00:00",
          "2022-08-01T00:00:00",
          "2022-08-08T00:00:00",
          "2022-08-15T00:00:00",
          "2022-08-22T00:00:00",
          "2022-08-29T00:00:00",
          "2022-09-05T00:00:00",
          "2022-09-12T00:00:00",
          "2022-09-19T00:00:00",
          "2022-09-26T00:00:00",
          "2022-10-03T00:00:00",
          "2022-10-10T00:00:00",
          "2022-10-17T00:00:00",
          "2022-10-24T00:00:00",
          "2022-10-31T00:00:00",
          "2022-11-07T00:00:00",
          "2022-11-14T00:00:00",
          "2022-11-21T00:00:00",
          "2022-11-28T00:00:00",
          "2022-12-05T00:00:00",
          "2022-12-12T00:00:00",
          "2022-12-19T00:00:00",
          "2022-12-26T00:00:00",
          "2023-01-02T00:00:00",
          "2023-01-09T00:00:00",
          "2023-01-16T00:00:00",
          "2023-01-23T00:00:00",
          "2023-01-30T00:00:00",
          "2023-02-06T00:00:00",
          "2023-02-13T00:00:00",
          "2023-02-20T00:00:00",
          "2023-02-27T00:00:00",
          "2023-03-06T00:00:00",
          "2023-03-13T00:00:00",
          "2023-03-20T00:00:00",
          "2023-03-27T00:00:00",
          "2023-04-03T00:00:00",
          "2023-04-10T00:00:00",
          "2023-04-17T00:00:00",
          "2023-04-24T00:00:00",
          "2023-05-01T00:00:00",
          "2023-05-08T00:00:00",
          "2023-05-15T00:00:00",
          "2023-05-22T00:00:00",
          "2023-05-29T00:00:00",
          "2023-06-05T00:00:00",
          "2023-06-12T00:00:00",
          "2023-06-19T00:00:00",
          "2023-06-26T00:00:00",
          "2023-07-03T00:00:00",
          "2023-07-10T00:00:00",
          "2023-07-17T00:00:00",
          "2023-07-24T00:00:00",
          "2023-07-31T00:00:00",
          "2023-08-07T00:00:00",
          "2023-08-14T00:00:00",
          "2023-08-21T00:00:00",
          "2023-08-28T00:00:00",
          "2023-09-04T00:00:00"
         ],
         "xaxis": "x",
         "y": [
          -32.30484617759028,
          -30.4935509000774,
          -31.274227276139,
          -31.36785564755923,
          -31.15653313231388,
          -31.52603993649242,
          -29.55063410880783,
          -31.34436552432091,
          -29.55656612588233,
          -31.01508528331077,
          -30.0130370342855,
          -31.52932465074582,
          -27.31259694545118,
          -29.89477188350796,
          -30.71550996329313,
          -27.01164307667421,
          -35.16,
          -29.89860788283915,
          -29.20338366921091,
          -29.62734339338936,
          -28.88377202190133,
          -28.30003694815175,
          -24.79683777575983,
          -27.01035944455518,
          -28.01057159578618,
          -29.28160616411153,
          -28.92986698489391,
          -28.73479549274731,
          -29.5283831080373,
          -23.81191718033823,
          -27.58712591203685,
          -29.17327769951286,
          -25.6233112689228,
          -27.01961805092655,
          -25.5205601138647,
          -25.06267577792168,
          -27.4216335764004,
          -26.32149606697524,
          -26.56274011506201,
          -26.96991457047935,
          -26.38951793836999,
          -28.00574446119221,
          -27.47420733101329,
          -26.81183758510376,
          -27.34243031703673,
          -27.65887416419244,
          -24.86044647495645,
          -26.15508190611411,
          -25.6101790701495,
          -27.4540546948735,
          -25.04996324836988,
          -23.19508262730891,
          -23.06219043353637,
          -22.63561036664342,
          -21.68784631547351,
          -21.77386513514867,
          -21.46417261664198,
          -21.71508841943397,
          -18.10945160704557,
          -13.1690979300706,
          -9.086712250276939,
          -13.43017826514831,
          -10.8002556588131,
          -9.854462424990793,
          -8.25553379897718,
          -6.634888695388808,
          -6.661612881401798,
          1.090852040631891,
          2.396631384408602,
          -0.829544362015876,
          1.161769357299987,
          4.203023319137813,
          10.75153447347159,
          10.40401846483983,
          13.48041571753986,
          11.36477600868943,
          21.0333480513047,
          20.91898847155077,
          14.64458997160891,
          20.45681199689454,
          20.57800930910536,
          19.73061327058609,
          18.77400532808247,
          18.65886177673875,
          17.42079691126391,
          18.99515104790115,
          15.51979768047821,
          21.07379082735859,
          19.01720654704835,
          21.55252577926555,
          22.22748304813824,
          21.37427594251033,
          17.32322659693141,
          22.71748994612641,
          23.19628384431352,
          26.45244027950816,
          26.33264370059529,
          27.89202918888576,
          31.51904905725505,
          32.22686233185023,
          32.96153173631754,
          29.53784005721703,
          41.21870253851161,
          43.45084913579716,
          47.37417673621647,
          50.34208057000174,
          47.60171489817791,
          56.44178496753604,
          53.67996895800376,
          55.13060199775653,
          56.05564916222036,
          52.83933672835671,
          49.11436149260786,
          57.4705691912345,
          52.09090909090911,
          61.39075952948782,
          50.03840637450199,
          56.34602698650675,
          58.87783506248276,
          69.09736871322308,
          59.80761766930894,
          56.37871106000419,
          55.04971887550198,
          49.68517347087733,
          56.79842780902928,
          53.90299332360613,
          45.15922790978048,
          57.09661491194382,
          50.20843715521837,
          49.87655364843156,
          41.04014832293951,
          41.6434602517126,
          42.880509432322,
          36.93176229954089,
          30.34226537216828,
          29.41674625915313,
          31.56031921057058,
          27.61978110162501,
          26.21015421668026,
          25.90019068049101,
          25.39916307538567,
          27.08571758191047,
          24.68112592348012,
          25.75383545160562,
          26.80081461043227,
          24.56312246403541,
          19.92475465403113,
          19.76609307033622,
          20.01908211149405,
          14.55452831056529,
          4.312557680338248,
          14.37932118164676,
          12.59895039183008,
          14.92368479111094,
          13.23178612818951,
          8.610267898567054,
          9.945223230062437
         ],
         "yaxis": "y"
        }
       ],
       "layout": {
        "legend": {
         "title": {
          "text": "full"
         },
         "tracegroupgap": 0
        },
        "template": {
         "data": {
          "bar": [
           {
            "error_x": {
             "color": "#2a3f5f"
            },
            "error_y": {
             "color": "#2a3f5f"
            },
            "marker": {
             "line": {
              "color": "#E5ECF6",
              "width": 0.5
             },
             "pattern": {
              "fillmode": "overlay",
              "size": 10,
              "solidity": 0.2
             }
            },
            "type": "bar"
           }
          ],
          "barpolar": [
           {
            "marker": {
             "line": {
              "color": "#E5ECF6",
              "width": 0.5
             },
             "pattern": {
              "fillmode": "overlay",
              "size": 10,
              "solidity": 0.2
             }
            },
            "type": "barpolar"
           }
          ],
          "carpet": [
           {
            "aaxis": {
             "endlinecolor": "#2a3f5f",
             "gridcolor": "white",
             "linecolor": "white",
             "minorgridcolor": "white",
             "startlinecolor": "#2a3f5f"
            },
            "baxis": {
             "endlinecolor": "#2a3f5f",
             "gridcolor": "white",
             "linecolor": "white",
             "minorgridcolor": "white",
             "startlinecolor": "#2a3f5f"
            },
            "type": "carpet"
           }
          ],
          "choropleth": [
           {
            "colorbar": {
             "outlinewidth": 0,
             "ticks": ""
            },
            "type": "choropleth"
           }
          ],
          "contour": [
           {
            "colorbar": {
             "outlinewidth": 0,
             "ticks": ""
            },
            "colorscale": [
             [
              0,
              "#0d0887"
             ],
             [
              0.1111111111111111,
              "#46039f"
             ],
             [
              0.2222222222222222,
              "#7201a8"
             ],
             [
              0.3333333333333333,
              "#9c179e"
             ],
             [
              0.4444444444444444,
              "#bd3786"
             ],
             [
              0.5555555555555556,
              "#d8576b"
             ],
             [
              0.6666666666666666,
              "#ed7953"
             ],
             [
              0.7777777777777778,
              "#fb9f3a"
             ],
             [
              0.8888888888888888,
              "#fdca26"
             ],
             [
              1,
              "#f0f921"
             ]
            ],
            "type": "contour"
           }
          ],
          "contourcarpet": [
           {
            "colorbar": {
             "outlinewidth": 0,
             "ticks": ""
            },
            "type": "contourcarpet"
           }
          ],
          "heatmap": [
           {
            "colorbar": {
             "outlinewidth": 0,
             "ticks": ""
            },
            "colorscale": [
             [
              0,
              "#0d0887"
             ],
             [
              0.1111111111111111,
              "#46039f"
             ],
             [
              0.2222222222222222,
              "#7201a8"
             ],
             [
              0.3333333333333333,
              "#9c179e"
             ],
             [
              0.4444444444444444,
              "#bd3786"
             ],
             [
              0.5555555555555556,
              "#d8576b"
             ],
             [
              0.6666666666666666,
              "#ed7953"
             ],
             [
              0.7777777777777778,
              "#fb9f3a"
             ],
             [
              0.8888888888888888,
              "#fdca26"
             ],
             [
              1,
              "#f0f921"
             ]
            ],
            "type": "heatmap"
           }
          ],
          "heatmapgl": [
           {
            "colorbar": {
             "outlinewidth": 0,
             "ticks": ""
            },
            "colorscale": [
             [
              0,
              "#0d0887"
             ],
             [
              0.1111111111111111,
              "#46039f"
             ],
             [
              0.2222222222222222,
              "#7201a8"
             ],
             [
              0.3333333333333333,
              "#9c179e"
             ],
             [
              0.4444444444444444,
              "#bd3786"
             ],
             [
              0.5555555555555556,
              "#d8576b"
             ],
             [
              0.6666666666666666,
              "#ed7953"
             ],
             [
              0.7777777777777778,
              "#fb9f3a"
             ],
             [
              0.8888888888888888,
              "#fdca26"
             ],
             [
              1,
              "#f0f921"
             ]
            ],
            "type": "heatmapgl"
           }
          ],
          "histogram": [
           {
            "marker": {
             "pattern": {
              "fillmode": "overlay",
              "size": 10,
              "solidity": 0.2
             }
            },
            "type": "histogram"
           }
          ],
          "histogram2d": [
           {
            "colorbar": {
             "outlinewidth": 0,
             "ticks": ""
            },
            "colorscale": [
             [
              0,
              "#0d0887"
             ],
             [
              0.1111111111111111,
              "#46039f"
             ],
             [
              0.2222222222222222,
              "#7201a8"
             ],
             [
              0.3333333333333333,
              "#9c179e"
             ],
             [
              0.4444444444444444,
              "#bd3786"
             ],
             [
              0.5555555555555556,
              "#d8576b"
             ],
             [
              0.6666666666666666,
              "#ed7953"
             ],
             [
              0.7777777777777778,
              "#fb9f3a"
             ],
             [
              0.8888888888888888,
              "#fdca26"
             ],
             [
              1,
              "#f0f921"
             ]
            ],
            "type": "histogram2d"
           }
          ],
          "histogram2dcontour": [
           {
            "colorbar": {
             "outlinewidth": 0,
             "ticks": ""
            },
            "colorscale": [
             [
              0,
              "#0d0887"
             ],
             [
              0.1111111111111111,
              "#46039f"
             ],
             [
              0.2222222222222222,
              "#7201a8"
             ],
             [
              0.3333333333333333,
              "#9c179e"
             ],
             [
              0.4444444444444444,
              "#bd3786"
             ],
             [
              0.5555555555555556,
              "#d8576b"
             ],
             [
              0.6666666666666666,
              "#ed7953"
             ],
             [
              0.7777777777777778,
              "#fb9f3a"
             ],
             [
              0.8888888888888888,
              "#fdca26"
             ],
             [
              1,
              "#f0f921"
             ]
            ],
            "type": "histogram2dcontour"
           }
          ],
          "mesh3d": [
           {
            "colorbar": {
             "outlinewidth": 0,
             "ticks": ""
            },
            "type": "mesh3d"
           }
          ],
          "parcoords": [
           {
            "line": {
             "colorbar": {
              "outlinewidth": 0,
              "ticks": ""
             }
            },
            "type": "parcoords"
           }
          ],
          "pie": [
           {
            "automargin": true,
            "type": "pie"
           }
          ],
          "scatter": [
           {
            "fillpattern": {
             "fillmode": "overlay",
             "size": 10,
             "solidity": 0.2
            },
            "type": "scatter"
           }
          ],
          "scatter3d": [
           {
            "line": {
             "colorbar": {
              "outlinewidth": 0,
              "ticks": ""
             }
            },
            "marker": {
             "colorbar": {
              "outlinewidth": 0,
              "ticks": ""
             }
            },
            "type": "scatter3d"
           }
          ],
          "scattercarpet": [
           {
            "marker": {
             "colorbar": {
              "outlinewidth": 0,
              "ticks": ""
             }
            },
            "type": "scattercarpet"
           }
          ],
          "scattergeo": [
           {
            "marker": {
             "colorbar": {
              "outlinewidth": 0,
              "ticks": ""
             }
            },
            "type": "scattergeo"
           }
          ],
          "scattergl": [
           {
            "marker": {
             "colorbar": {
              "outlinewidth": 0,
              "ticks": ""
             }
            },
            "type": "scattergl"
           }
          ],
          "scattermapbox": [
           {
            "marker": {
             "colorbar": {
              "outlinewidth": 0,
              "ticks": ""
             }
            },
            "type": "scattermapbox"
           }
          ],
          "scatterpolar": [
           {
            "marker": {
             "colorbar": {
              "outlinewidth": 0,
              "ticks": ""
             }
            },
            "type": "scatterpolar"
           }
          ],
          "scatterpolargl": [
           {
            "marker": {
             "colorbar": {
              "outlinewidth": 0,
              "ticks": ""
             }
            },
            "type": "scatterpolargl"
           }
          ],
          "scatterternary": [
           {
            "marker": {
             "colorbar": {
              "outlinewidth": 0,
              "ticks": ""
             }
            },
            "type": "scatterternary"
           }
          ],
          "surface": [
           {
            "colorbar": {
             "outlinewidth": 0,
             "ticks": ""
            },
            "colorscale": [
             [
              0,
              "#0d0887"
             ],
             [
              0.1111111111111111,
              "#46039f"
             ],
             [
              0.2222222222222222,
              "#7201a8"
             ],
             [
              0.3333333333333333,
              "#9c179e"
             ],
             [
              0.4444444444444444,
              "#bd3786"
             ],
             [
              0.5555555555555556,
              "#d8576b"
             ],
             [
              0.6666666666666666,
              "#ed7953"
             ],
             [
              0.7777777777777778,
              "#fb9f3a"
             ],
             [
              0.8888888888888888,
              "#fdca26"
             ],
             [
              1,
              "#f0f921"
             ]
            ],
            "type": "surface"
           }
          ],
          "table": [
           {
            "cells": {
             "fill": {
              "color": "#EBF0F8"
             },
             "line": {
              "color": "white"
             }
            },
            "header": {
             "fill": {
              "color": "#C8D4E3"
             },
             "line": {
              "color": "white"
             }
            },
            "type": "table"
           }
          ]
         },
         "layout": {
          "annotationdefaults": {
           "arrowcolor": "#2a3f5f",
           "arrowhead": 0,
           "arrowwidth": 1
          },
          "autotypenumbers": "strict",
          "coloraxis": {
           "colorbar": {
            "outlinewidth": 0,
            "ticks": ""
           }
          },
          "colorscale": {
           "diverging": [
            [
             0,
             "#8e0152"
            ],
            [
             0.1,
             "#c51b7d"
            ],
            [
             0.2,
             "#de77ae"
            ],
            [
             0.3,
             "#f1b6da"
            ],
            [
             0.4,
             "#fde0ef"
            ],
            [
             0.5,
             "#f7f7f7"
            ],
            [
             0.6,
             "#e6f5d0"
            ],
            [
             0.7,
             "#b8e186"
            ],
            [
             0.8,
             "#7fbc41"
            ],
            [
             0.9,
             "#4d9221"
            ],
            [
             1,
             "#276419"
            ]
           ],
           "sequential": [
            [
             0,
             "#0d0887"
            ],
            [
             0.1111111111111111,
             "#46039f"
            ],
            [
             0.2222222222222222,
             "#7201a8"
            ],
            [
             0.3333333333333333,
             "#9c179e"
            ],
            [
             0.4444444444444444,
             "#bd3786"
            ],
            [
             0.5555555555555556,
             "#d8576b"
            ],
            [
             0.6666666666666666,
             "#ed7953"
            ],
            [
             0.7777777777777778,
             "#fb9f3a"
            ],
            [
             0.8888888888888888,
             "#fdca26"
            ],
            [
             1,
             "#f0f921"
            ]
           ],
           "sequentialminus": [
            [
             0,
             "#0d0887"
            ],
            [
             0.1111111111111111,
             "#46039f"
            ],
            [
             0.2222222222222222,
             "#7201a8"
            ],
            [
             0.3333333333333333,
             "#9c179e"
            ],
            [
             0.4444444444444444,
             "#bd3786"
            ],
            [
             0.5555555555555556,
             "#d8576b"
            ],
            [
             0.6666666666666666,
             "#ed7953"
            ],
            [
             0.7777777777777778,
             "#fb9f3a"
            ],
            [
             0.8888888888888888,
             "#fdca26"
            ],
            [
             1,
             "#f0f921"
            ]
           ]
          },
          "colorway": [
           "#636efa",
           "#EF553B",
           "#00cc96",
           "#ab63fa",
           "#FFA15A",
           "#19d3f3",
           "#FF6692",
           "#B6E880",
           "#FF97FF",
           "#FECB52"
          ],
          "font": {
           "color": "#2a3f5f"
          },
          "geo": {
           "bgcolor": "white",
           "lakecolor": "white",
           "landcolor": "#E5ECF6",
           "showlakes": true,
           "showland": true,
           "subunitcolor": "white"
          },
          "hoverlabel": {
           "align": "left"
          },
          "hovermode": "closest",
          "mapbox": {
           "style": "light"
          },
          "paper_bgcolor": "white",
          "plot_bgcolor": "#E5ECF6",
          "polar": {
           "angularaxis": {
            "gridcolor": "white",
            "linecolor": "white",
            "ticks": ""
           },
           "bgcolor": "#E5ECF6",
           "radialaxis": {
            "gridcolor": "white",
            "linecolor": "white",
            "ticks": ""
           }
          },
          "scene": {
           "xaxis": {
            "backgroundcolor": "#E5ECF6",
            "gridcolor": "white",
            "gridwidth": 2,
            "linecolor": "white",
            "showbackground": true,
            "ticks": "",
            "zerolinecolor": "white"
           },
           "yaxis": {
            "backgroundcolor": "#E5ECF6",
            "gridcolor": "white",
            "gridwidth": 2,
            "linecolor": "white",
            "showbackground": true,
            "ticks": "",
            "zerolinecolor": "white"
           },
           "zaxis": {
            "backgroundcolor": "#E5ECF6",
            "gridcolor": "white",
            "gridwidth": 2,
            "linecolor": "white",
            "showbackground": true,
            "ticks": "",
            "zerolinecolor": "white"
           }
          },
          "shapedefaults": {
           "line": {
            "color": "#2a3f5f"
           }
          },
          "ternary": {
           "aaxis": {
            "gridcolor": "white",
            "linecolor": "white",
            "ticks": ""
           },
           "baxis": {
            "gridcolor": "white",
            "linecolor": "white",
            "ticks": ""
           },
           "bgcolor": "#E5ECF6",
           "caxis": {
            "gridcolor": "white",
            "linecolor": "white",
            "ticks": ""
           }
          },
          "title": {
           "x": 0.05
          },
          "xaxis": {
           "automargin": true,
           "gridcolor": "white",
           "linecolor": "white",
           "ticks": "",
           "title": {
            "standoff": 15
           },
           "zerolinecolor": "white",
           "zerolinewidth": 2
          },
          "yaxis": {
           "automargin": true,
           "gridcolor": "white",
           "linecolor": "white",
           "ticks": "",
           "title": {
            "standoff": 15
           },
           "zerolinecolor": "white",
           "zerolinewidth": 2
          }
         }
        },
        "title": {
         "text": "Weekly Prices for [20,21,22,23] by Product Category"
        },
        "xaxis": {
         "anchor": "y",
         "domain": [
          0,
          1
         ],
         "title": {
          "text": "date"
         }
        },
        "yaxis": {
         "anchor": "x",
         "domain": [
          0,
          1
         ],
         "title": {
          "text": "wPreis"
         }
        }
       }
      }
     },
     "metadata": {},
     "output_type": "display_data"
    }
   ],
   "source": [
    "fig = px.line(plz_20_21_22_23, x='date', y='wPreis', color='full', title='Weekly Prices for [20,21,22,23] by Product Category')\n",
    "fig.show()"
   ]
  },
  {
   "cell_type": "code",
   "execution_count": null,
   "id": "4a50df3c",
   "metadata": {},
   "outputs": [],
   "source": [
    "#nothing"
   ]
  }
 ],
 "metadata": {
  "kernelspec": {
   "display_name": "Python 3 (ipykernel)",
   "language": "python",
   "name": "python3"
  },
  "language_info": {
   "codemirror_mode": {
    "name": "ipython",
    "version": 3
   },
   "file_extension": ".py",
   "mimetype": "text/x-python",
   "name": "python",
   "nbconvert_exporter": "python",
   "pygments_lexer": "ipython3",
   "version": "3.10.6"
  }
 },
 "nbformat": 4,
 "nbformat_minor": 5
}
